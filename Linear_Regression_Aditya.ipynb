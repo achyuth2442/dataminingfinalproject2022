{
 "cells": [
  {
   "cell_type": "markdown",
   "metadata": {},
   "source": [
    "### Import the libraries and packages"
   ]
  },
  {
   "cell_type": "code",
   "execution_count": 1,
   "metadata": {
    "_cell_guid": "42d80b40-c268-44ae-be4c-1b0660b8a0c6",
    "_kg_hide-input": true,
    "_uuid": "f67230a81f9466b6c8d2c5d603a8e8615c2e99a7"
   },
   "outputs": [],
   "source": [
    "import datetime, warnings, scipy \n",
    "import pandas as pd\n",
    "import numpy as np\n",
    "import seaborn as sns\n",
    "import matplotlib as mpl\n",
    "import matplotlib.pyplot as plt\n",
    "import matplotlib.patches as patches"
   ]
  },
  {
   "cell_type": "code",
   "execution_count": 2,
   "metadata": {},
   "outputs": [],
   "source": [
    "from matplotlib.patches import ConnectionPatch\n",
    "from collections import OrderedDict\n",
    "from matplotlib.gridspec import GridSpec\n",
    "from mpl_toolkits.basemap import Basemap\n",
    "from sklearn import metrics, linear_model\n",
    "from sklearn.preprocessing import PolynomialFeatures, StandardScaler\n",
    "from sklearn.preprocessing import LabelEncoder, OneHotEncoder\n",
    "from sklearn.model_selection import train_test_split, cross_val_score, cross_val_predict\n",
    "from scipy.optimize import curve_fit\n",
    "plt.rcParams[\"patch.force_edgecolor\"] = True\n",
    "plt.style.use('fivethirtyeight')\n",
    "mpl.rc('patch', edgecolor = 'dimgray', linewidth=1)\n",
    "from IPython.core.interactiveshell import InteractiveShell\n",
    "InteractiveShell.ast_node_interactivity = \"last_expr\"\n",
    "pd.options.display.max_columns = 50\n",
    "%matplotlib inline\n",
    "warnings.filterwarnings(\"ignore\")"
   ]
  },
  {
   "cell_type": "markdown",
   "metadata": {},
   "source": [
    "### Loading the dataset"
   ]
  },
  {
   "cell_type": "code",
   "execution_count": 3,
   "metadata": {
    "_cell_guid": "f1181648-1d4e-434c-b9b6-58240e4f0787",
    "_kg_hide-input": true,
    "_uuid": "0e16a4dda060923da07c99eca1d0fc941c3ddd46"
   },
   "outputs": [
    {
     "name": "stdout",
     "output_type": "stream",
     "text": [
      "Dataframe dimensions: (5819079, 31)\n"
     ]
    }
   ],
   "source": [
    "df = pd.read_csv('./flights.csv', low_memory=False)\n",
    "print('Dataframe dimensions:', df.shape)"
   ]
  },
  {
   "cell_type": "code",
   "execution_count": 4,
   "metadata": {
    "_cell_guid": "f1181648-1d4e-434c-b9b6-58240e4f0787",
    "_kg_hide-input": true,
    "_uuid": "0e16a4dda060923da07c99eca1d0fc941c3ddd46",
    "scrolled": true
   },
   "outputs": [
    {
     "data": {
      "text/html": [
       "<div>\n",
       "<style scoped>\n",
       "    .dataframe tbody tr th:only-of-type {\n",
       "        vertical-align: middle;\n",
       "    }\n",
       "\n",
       "    .dataframe tbody tr th {\n",
       "        vertical-align: top;\n",
       "    }\n",
       "\n",
       "    .dataframe thead th {\n",
       "        text-align: right;\n",
       "    }\n",
       "</style>\n",
       "<table border=\"1\" class=\"dataframe\">\n",
       "  <thead>\n",
       "    <tr style=\"text-align: right;\">\n",
       "      <th></th>\n",
       "      <th>YEAR</th>\n",
       "      <th>MONTH</th>\n",
       "      <th>DAY</th>\n",
       "      <th>DAY_OF_WEEK</th>\n",
       "      <th>AIRLINE</th>\n",
       "      <th>FLIGHT_NUMBER</th>\n",
       "      <th>TAIL_NUMBER</th>\n",
       "      <th>ORIGIN_AIRPORT</th>\n",
       "      <th>DESTINATION_AIRPORT</th>\n",
       "      <th>SCHEDULED_DEPARTURE</th>\n",
       "      <th>DEPARTURE_TIME</th>\n",
       "      <th>DEPARTURE_DELAY</th>\n",
       "      <th>TAXI_OUT</th>\n",
       "      <th>WHEELS_OFF</th>\n",
       "      <th>SCHEDULED_TIME</th>\n",
       "      <th>ELAPSED_TIME</th>\n",
       "      <th>AIR_TIME</th>\n",
       "      <th>DISTANCE</th>\n",
       "      <th>WHEELS_ON</th>\n",
       "      <th>TAXI_IN</th>\n",
       "      <th>SCHEDULED_ARRIVAL</th>\n",
       "      <th>ARRIVAL_TIME</th>\n",
       "      <th>ARRIVAL_DELAY</th>\n",
       "      <th>DIVERTED</th>\n",
       "      <th>CANCELLED</th>\n",
       "      <th>CANCELLATION_REASON</th>\n",
       "      <th>AIR_SYSTEM_DELAY</th>\n",
       "      <th>SECURITY_DELAY</th>\n",
       "      <th>AIRLINE_DELAY</th>\n",
       "      <th>LATE_AIRCRAFT_DELAY</th>\n",
       "      <th>WEATHER_DELAY</th>\n",
       "    </tr>\n",
       "  </thead>\n",
       "  <tbody>\n",
       "    <tr>\n",
       "      <th>column type</th>\n",
       "      <td>int64</td>\n",
       "      <td>int64</td>\n",
       "      <td>int64</td>\n",
       "      <td>int64</td>\n",
       "      <td>object</td>\n",
       "      <td>int64</td>\n",
       "      <td>object</td>\n",
       "      <td>object</td>\n",
       "      <td>object</td>\n",
       "      <td>int64</td>\n",
       "      <td>float64</td>\n",
       "      <td>float64</td>\n",
       "      <td>float64</td>\n",
       "      <td>float64</td>\n",
       "      <td>float64</td>\n",
       "      <td>float64</td>\n",
       "      <td>float64</td>\n",
       "      <td>int64</td>\n",
       "      <td>float64</td>\n",
       "      <td>float64</td>\n",
       "      <td>int64</td>\n",
       "      <td>float64</td>\n",
       "      <td>float64</td>\n",
       "      <td>int64</td>\n",
       "      <td>int64</td>\n",
       "      <td>object</td>\n",
       "      <td>float64</td>\n",
       "      <td>float64</td>\n",
       "      <td>float64</td>\n",
       "      <td>float64</td>\n",
       "      <td>float64</td>\n",
       "    </tr>\n",
       "    <tr>\n",
       "      <th>null values (nb)</th>\n",
       "      <td>0</td>\n",
       "      <td>0</td>\n",
       "      <td>0</td>\n",
       "      <td>0</td>\n",
       "      <td>0</td>\n",
       "      <td>0</td>\n",
       "      <td>14721</td>\n",
       "      <td>0</td>\n",
       "      <td>0</td>\n",
       "      <td>0</td>\n",
       "      <td>86153</td>\n",
       "      <td>86153</td>\n",
       "      <td>89047</td>\n",
       "      <td>89047</td>\n",
       "      <td>6</td>\n",
       "      <td>105071</td>\n",
       "      <td>105071</td>\n",
       "      <td>0</td>\n",
       "      <td>92513</td>\n",
       "      <td>92513</td>\n",
       "      <td>0</td>\n",
       "      <td>92513</td>\n",
       "      <td>105071</td>\n",
       "      <td>0</td>\n",
       "      <td>0</td>\n",
       "      <td>5729195</td>\n",
       "      <td>4755640</td>\n",
       "      <td>4755640</td>\n",
       "      <td>4755640</td>\n",
       "      <td>4755640</td>\n",
       "      <td>4755640</td>\n",
       "    </tr>\n",
       "    <tr>\n",
       "      <th>null values (%)</th>\n",
       "      <td>0.0</td>\n",
       "      <td>0.0</td>\n",
       "      <td>0.0</td>\n",
       "      <td>0.0</td>\n",
       "      <td>0.0</td>\n",
       "      <td>0.0</td>\n",
       "      <td>0.252978</td>\n",
       "      <td>0.0</td>\n",
       "      <td>0.0</td>\n",
       "      <td>0.0</td>\n",
       "      <td>1.480526</td>\n",
       "      <td>1.480526</td>\n",
       "      <td>1.530259</td>\n",
       "      <td>1.530259</td>\n",
       "      <td>0.000103</td>\n",
       "      <td>1.805629</td>\n",
       "      <td>1.805629</td>\n",
       "      <td>0.0</td>\n",
       "      <td>1.589822</td>\n",
       "      <td>1.589822</td>\n",
       "      <td>0.0</td>\n",
       "      <td>1.589822</td>\n",
       "      <td>1.805629</td>\n",
       "      <td>0.0</td>\n",
       "      <td>0.0</td>\n",
       "      <td>98.455357</td>\n",
       "      <td>81.72496</td>\n",
       "      <td>81.72496</td>\n",
       "      <td>81.72496</td>\n",
       "      <td>81.72496</td>\n",
       "      <td>81.72496</td>\n",
       "    </tr>\n",
       "  </tbody>\n",
       "</table>\n",
       "</div>"
      ],
      "text/plain": [
       "                   YEAR  MONTH    DAY DAY_OF_WEEK AIRLINE FLIGHT_NUMBER  \\\n",
       "column type       int64  int64  int64       int64  object         int64   \n",
       "null values (nb)      0      0      0           0       0             0   \n",
       "null values (%)     0.0    0.0    0.0         0.0     0.0           0.0   \n",
       "\n",
       "                 TAIL_NUMBER ORIGIN_AIRPORT DESTINATION_AIRPORT  \\\n",
       "column type           object         object              object   \n",
       "null values (nb)       14721              0                   0   \n",
       "null values (%)     0.252978            0.0                 0.0   \n",
       "\n",
       "                 SCHEDULED_DEPARTURE DEPARTURE_TIME DEPARTURE_DELAY  TAXI_OUT  \\\n",
       "column type                    int64        float64         float64   float64   \n",
       "null values (nb)                   0          86153           86153     89047   \n",
       "null values (%)                  0.0       1.480526        1.480526  1.530259   \n",
       "\n",
       "                 WHEELS_OFF SCHEDULED_TIME ELAPSED_TIME  AIR_TIME DISTANCE  \\\n",
       "column type         float64        float64      float64   float64    int64   \n",
       "null values (nb)      89047              6       105071    105071        0   \n",
       "null values (%)    1.530259       0.000103     1.805629  1.805629      0.0   \n",
       "\n",
       "                 WHEELS_ON   TAXI_IN SCHEDULED_ARRIVAL ARRIVAL_TIME  \\\n",
       "column type        float64   float64             int64      float64   \n",
       "null values (nb)     92513     92513                 0        92513   \n",
       "null values (%)   1.589822  1.589822               0.0     1.589822   \n",
       "\n",
       "                 ARRIVAL_DELAY DIVERTED CANCELLED CANCELLATION_REASON  \\\n",
       "column type            float64    int64     int64              object   \n",
       "null values (nb)        105071        0         0             5729195   \n",
       "null values (%)       1.805629      0.0       0.0           98.455357   \n",
       "\n",
       "                 AIR_SYSTEM_DELAY SECURITY_DELAY AIRLINE_DELAY  \\\n",
       "column type               float64        float64       float64   \n",
       "null values (nb)          4755640        4755640       4755640   \n",
       "null values (%)          81.72496       81.72496      81.72496   \n",
       "\n",
       "                 LATE_AIRCRAFT_DELAY WEATHER_DELAY  \n",
       "column type                  float64       float64  \n",
       "null values (nb)             4755640       4755640  \n",
       "null values (%)             81.72496      81.72496  "
      ]
     },
     "execution_count": 4,
     "metadata": {},
     "output_type": "execute_result"
    }
   ],
   "source": [
    "# gives some infos on columns types and number of null values\n",
    "tab_info=pd.DataFrame(df.dtypes).T.rename(index={0:'column type'})\n",
    "tab_info=tab_info.append(pd.DataFrame(df.isnull().sum()).T.rename(index={0:'null values (nb)'}))\n",
    "tab_info=tab_info.append(pd.DataFrame(df.isnull().sum()/df.shape[0]*100)\n",
    "                         .T.rename(index={0:'null values (%)'}))\n",
    "tab_info"
   ]
  },
  {
   "cell_type": "code",
   "execution_count": 5,
   "metadata": {
    "_cell_guid": "6f858b64-000b-4b5e-a2a0-c827afb59bd3",
    "_kg_hide-input": true,
    "_uuid": "43d6714ff1fdfe7465f9ad69f5fdc8754cc88f82"
   },
   "outputs": [],
   "source": [
    "airports = pd.read_csv('./airports.csv')"
   ]
  },
  {
   "cell_type": "code",
   "execution_count": 6,
   "metadata": {
    "_cell_guid": "916e7ec8-7d93-4b0c-858f-a812698aaba6",
    "_kg_hide-input": true,
    "_uuid": "87073320908859f551c332e077bfa1c19ed8c25c"
   },
   "outputs": [],
   "source": [
    "df = df[df['MONTH'] == 1]"
   ]
  },
  {
   "cell_type": "markdown",
   "metadata": {},
   "source": [
    "### Cleaning the dateset"
   ]
  },
  {
   "cell_type": "code",
   "execution_count": 7,
   "metadata": {
    "_cell_guid": "d6861e13-aa9a-4790-b768-40c54717c62f",
    "_kg_hide-input": true,
    "_uuid": "8652a730699b241163bdbe13396004e442f92baf"
   },
   "outputs": [],
   "source": [
    "df['DATE'] = pd.to_datetime(df[['YEAR','MONTH', 'DAY']])"
   ]
  },
  {
   "cell_type": "code",
   "execution_count": 8,
   "metadata": {
    "_cell_guid": "fe712458-abe5-4f40-a100-80dcddd69ad6",
    "_kg_hide-input": true,
    "_uuid": "d84175d06e4bd797bd125ce71f4629573d1d8092"
   },
   "outputs": [],
   "source": [
    "# Converting 'HHMM' string to datetime.time\n",
    "def format_heure(chaine):\n",
    "    if pd.isnull(chaine):\n",
    "        return np.nan\n",
    "    else:\n",
    "        if chaine == 2400: chaine = 0\n",
    "        chaine = \"{0:04d}\".format(int(chaine))\n",
    "        heure = datetime.time(int(chaine[0:2]), int(chaine[2:4]))\n",
    "        return heure\n",
    "\n",
    "# Combining date and time to produce a datetime.datetime\n",
    "def combine_date_heure(x):\n",
    "    if pd.isnull(x[0]) or pd.isnull(x[1]):\n",
    "        return np.nan\n",
    "    else:\n",
    "        return datetime.datetime.combine(x[0],x[1])\n",
    "\n",
    "# Combining two columns of the dataframe to create a datetime format\n",
    "def create_flight_time(df, col):    \n",
    "    liste = []\n",
    "    for index, cols in df[['DATE', col]].iterrows():    \n",
    "        if pd.isnull(cols[1]):\n",
    "            liste.append(np.nan)\n",
    "        elif float(cols[1]) == 2400:\n",
    "            cols[0] += datetime.timedelta(days=1)\n",
    "            cols[1] = datetime.time(0,0)\n",
    "            liste.append(combine_date_heure(cols))\n",
    "        else:\n",
    "            cols[1] = format_heure(cols[1])\n",
    "            liste.append(combine_date_heure(cols))\n",
    "    return pd.Series(liste)"
   ]
  },
  {
   "cell_type": "code",
   "execution_count": 9,
   "metadata": {
    "_cell_guid": "356ec2ff-3fe5-4ab9-8f4d-235fec6ffb63",
    "_kg_hide-input": true,
    "_uuid": "b7ecec66f3d495e2e50b82e61d5dc550b8179b6a"
   },
   "outputs": [
    {
     "data": {
      "text/html": [
       "<div>\n",
       "<style scoped>\n",
       "    .dataframe tbody tr th:only-of-type {\n",
       "        vertical-align: middle;\n",
       "    }\n",
       "\n",
       "    .dataframe tbody tr th {\n",
       "        vertical-align: top;\n",
       "    }\n",
       "\n",
       "    .dataframe thead th {\n",
       "        text-align: right;\n",
       "    }\n",
       "</style>\n",
       "<table border=\"1\" class=\"dataframe\">\n",
       "  <thead>\n",
       "    <tr style=\"text-align: right;\">\n",
       "      <th></th>\n",
       "      <th>SCHEDULED_DEPARTURE</th>\n",
       "      <th>SCHEDULED_ARRIVAL</th>\n",
       "      <th>DEPARTURE_TIME</th>\n",
       "      <th>ARRIVAL_TIME</th>\n",
       "      <th>DEPARTURE_DELAY</th>\n",
       "      <th>ARRIVAL_DELAY</th>\n",
       "    </tr>\n",
       "  </thead>\n",
       "  <tbody>\n",
       "    <tr>\n",
       "      <th>0</th>\n",
       "      <td>2015-01-01 00:05:00</td>\n",
       "      <td>04:30:00</td>\n",
       "      <td>23:54:00</td>\n",
       "      <td>04:08:00</td>\n",
       "      <td>-11.0</td>\n",
       "      <td>-22.0</td>\n",
       "    </tr>\n",
       "    <tr>\n",
       "      <th>1</th>\n",
       "      <td>2015-01-01 00:10:00</td>\n",
       "      <td>07:50:00</td>\n",
       "      <td>00:02:00</td>\n",
       "      <td>07:41:00</td>\n",
       "      <td>-8.0</td>\n",
       "      <td>-9.0</td>\n",
       "    </tr>\n",
       "    <tr>\n",
       "      <th>2</th>\n",
       "      <td>2015-01-01 00:20:00</td>\n",
       "      <td>08:06:00</td>\n",
       "      <td>00:18:00</td>\n",
       "      <td>08:11:00</td>\n",
       "      <td>-2.0</td>\n",
       "      <td>5.0</td>\n",
       "    </tr>\n",
       "    <tr>\n",
       "      <th>3</th>\n",
       "      <td>2015-01-01 00:20:00</td>\n",
       "      <td>08:05:00</td>\n",
       "      <td>00:15:00</td>\n",
       "      <td>07:56:00</td>\n",
       "      <td>-5.0</td>\n",
       "      <td>-9.0</td>\n",
       "    </tr>\n",
       "    <tr>\n",
       "      <th>4</th>\n",
       "      <td>2015-01-01 00:25:00</td>\n",
       "      <td>03:20:00</td>\n",
       "      <td>00:24:00</td>\n",
       "      <td>02:59:00</td>\n",
       "      <td>-1.0</td>\n",
       "      <td>-21.0</td>\n",
       "    </tr>\n",
       "    <tr>\n",
       "      <th>5</th>\n",
       "      <td>2015-01-01 00:25:00</td>\n",
       "      <td>06:02:00</td>\n",
       "      <td>00:20:00</td>\n",
       "      <td>06:10:00</td>\n",
       "      <td>-5.0</td>\n",
       "      <td>8.0</td>\n",
       "    </tr>\n",
       "  </tbody>\n",
       "</table>\n",
       "</div>"
      ],
      "text/plain": [
       "  SCHEDULED_DEPARTURE SCHEDULED_ARRIVAL DEPARTURE_TIME ARRIVAL_TIME  \\\n",
       "0 2015-01-01 00:05:00          04:30:00       23:54:00     04:08:00   \n",
       "1 2015-01-01 00:10:00          07:50:00       00:02:00     07:41:00   \n",
       "2 2015-01-01 00:20:00          08:06:00       00:18:00     08:11:00   \n",
       "3 2015-01-01 00:20:00          08:05:00       00:15:00     07:56:00   \n",
       "4 2015-01-01 00:25:00          03:20:00       00:24:00     02:59:00   \n",
       "5 2015-01-01 00:25:00          06:02:00       00:20:00     06:10:00   \n",
       "\n",
       "   DEPARTURE_DELAY  ARRIVAL_DELAY  \n",
       "0            -11.0          -22.0  \n",
       "1             -8.0           -9.0  \n",
       "2             -2.0            5.0  \n",
       "3             -5.0           -9.0  \n",
       "4             -1.0          -21.0  \n",
       "5             -5.0            8.0  "
      ]
     },
     "execution_count": 9,
     "metadata": {},
     "output_type": "execute_result"
    }
   ],
   "source": [
    "df['SCHEDULED_DEPARTURE'] = create_flight_time(df, 'SCHEDULED_DEPARTURE')\n",
    "df['DEPARTURE_TIME'] = df['DEPARTURE_TIME'].apply(format_heure)\n",
    "df['SCHEDULED_ARRIVAL'] = df['SCHEDULED_ARRIVAL'].apply(format_heure)\n",
    "df['ARRIVAL_TIME'] = df['ARRIVAL_TIME'].apply(format_heure)\n",
    "\n",
    "df.loc[:5, ['SCHEDULED_DEPARTURE', 'SCHEDULED_ARRIVAL', 'DEPARTURE_TIME',\n",
    "             'ARRIVAL_TIME', 'DEPARTURE_DELAY', 'ARRIVAL_DELAY']]"
   ]
  },
  {
   "cell_type": "code",
   "execution_count": 10,
   "metadata": {
    "_cell_guid": "4d8faabc-9b14-4598-a1ec-8c8e6277db7d",
    "_kg_hide-input": true,
    "_uuid": "b4daa5a7f345e3fc5b847823f542e2bdf5a178a0"
   },
   "outputs": [
    {
     "data": {
      "text/html": [
       "<div>\n",
       "<style scoped>\n",
       "    .dataframe tbody tr th:only-of-type {\n",
       "        vertical-align: middle;\n",
       "    }\n",
       "\n",
       "    .dataframe tbody tr th {\n",
       "        vertical-align: top;\n",
       "    }\n",
       "\n",
       "    .dataframe thead th {\n",
       "        text-align: right;\n",
       "    }\n",
       "</style>\n",
       "<table border=\"1\" class=\"dataframe\">\n",
       "  <thead>\n",
       "    <tr style=\"text-align: right;\">\n",
       "      <th></th>\n",
       "      <th>AIRLINE</th>\n",
       "      <th>ORIGIN_AIRPORT</th>\n",
       "      <th>DESTINATION_AIRPORT</th>\n",
       "      <th>SCHEDULED_DEPARTURE</th>\n",
       "      <th>DEPARTURE_TIME</th>\n",
       "      <th>DEPARTURE_DELAY</th>\n",
       "      <th>SCHEDULED_ARRIVAL</th>\n",
       "      <th>ARRIVAL_TIME</th>\n",
       "      <th>ARRIVAL_DELAY</th>\n",
       "      <th>SCHEDULED_TIME</th>\n",
       "      <th>ELAPSED_TIME</th>\n",
       "    </tr>\n",
       "  </thead>\n",
       "  <tbody>\n",
       "    <tr>\n",
       "      <th>0</th>\n",
       "      <td>AS</td>\n",
       "      <td>ANC</td>\n",
       "      <td>SEA</td>\n",
       "      <td>2015-01-01 00:05:00</td>\n",
       "      <td>23:54:00</td>\n",
       "      <td>-11.0</td>\n",
       "      <td>04:30:00</td>\n",
       "      <td>04:08:00</td>\n",
       "      <td>-22.0</td>\n",
       "      <td>205.0</td>\n",
       "      <td>194.0</td>\n",
       "    </tr>\n",
       "    <tr>\n",
       "      <th>1</th>\n",
       "      <td>AA</td>\n",
       "      <td>LAX</td>\n",
       "      <td>PBI</td>\n",
       "      <td>2015-01-01 00:10:00</td>\n",
       "      <td>00:02:00</td>\n",
       "      <td>-8.0</td>\n",
       "      <td>07:50:00</td>\n",
       "      <td>07:41:00</td>\n",
       "      <td>-9.0</td>\n",
       "      <td>280.0</td>\n",
       "      <td>279.0</td>\n",
       "    </tr>\n",
       "    <tr>\n",
       "      <th>2</th>\n",
       "      <td>US</td>\n",
       "      <td>SFO</td>\n",
       "      <td>CLT</td>\n",
       "      <td>2015-01-01 00:20:00</td>\n",
       "      <td>00:18:00</td>\n",
       "      <td>-2.0</td>\n",
       "      <td>08:06:00</td>\n",
       "      <td>08:11:00</td>\n",
       "      <td>5.0</td>\n",
       "      <td>286.0</td>\n",
       "      <td>293.0</td>\n",
       "    </tr>\n",
       "    <tr>\n",
       "      <th>3</th>\n",
       "      <td>AA</td>\n",
       "      <td>LAX</td>\n",
       "      <td>MIA</td>\n",
       "      <td>2015-01-01 00:20:00</td>\n",
       "      <td>00:15:00</td>\n",
       "      <td>-5.0</td>\n",
       "      <td>08:05:00</td>\n",
       "      <td>07:56:00</td>\n",
       "      <td>-9.0</td>\n",
       "      <td>285.0</td>\n",
       "      <td>281.0</td>\n",
       "    </tr>\n",
       "    <tr>\n",
       "      <th>4</th>\n",
       "      <td>AS</td>\n",
       "      <td>SEA</td>\n",
       "      <td>ANC</td>\n",
       "      <td>2015-01-01 00:25:00</td>\n",
       "      <td>00:24:00</td>\n",
       "      <td>-1.0</td>\n",
       "      <td>03:20:00</td>\n",
       "      <td>02:59:00</td>\n",
       "      <td>-21.0</td>\n",
       "      <td>235.0</td>\n",
       "      <td>215.0</td>\n",
       "    </tr>\n",
       "  </tbody>\n",
       "</table>\n",
       "</div>"
      ],
      "text/plain": [
       "  AIRLINE ORIGIN_AIRPORT DESTINATION_AIRPORT SCHEDULED_DEPARTURE  \\\n",
       "0      AS            ANC                 SEA 2015-01-01 00:05:00   \n",
       "1      AA            LAX                 PBI 2015-01-01 00:10:00   \n",
       "2      US            SFO                 CLT 2015-01-01 00:20:00   \n",
       "3      AA            LAX                 MIA 2015-01-01 00:20:00   \n",
       "4      AS            SEA                 ANC 2015-01-01 00:25:00   \n",
       "\n",
       "  DEPARTURE_TIME  DEPARTURE_DELAY SCHEDULED_ARRIVAL ARRIVAL_TIME  \\\n",
       "0       23:54:00            -11.0          04:30:00     04:08:00   \n",
       "1       00:02:00             -8.0          07:50:00     07:41:00   \n",
       "2       00:18:00             -2.0          08:06:00     08:11:00   \n",
       "3       00:15:00             -5.0          08:05:00     07:56:00   \n",
       "4       00:24:00             -1.0          03:20:00     02:59:00   \n",
       "\n",
       "   ARRIVAL_DELAY  SCHEDULED_TIME  ELAPSED_TIME  \n",
       "0          -22.0           205.0         194.0  \n",
       "1           -9.0           280.0         279.0  \n",
       "2            5.0           286.0         293.0  \n",
       "3           -9.0           285.0         281.0  \n",
       "4          -21.0           235.0         215.0  "
      ]
     },
     "execution_count": 10,
     "metadata": {},
     "output_type": "execute_result"
    }
   ],
   "source": [
    "variables_to_remove = ['TAXI_OUT', 'TAXI_IN', 'WHEELS_ON', 'WHEELS_OFF', 'YEAR', \n",
    "                       'MONTH','DAY','DAY_OF_WEEK','DATE', 'AIR_SYSTEM_DELAY',\n",
    "                       'SECURITY_DELAY', 'AIRLINE_DELAY', 'LATE_AIRCRAFT_DELAY',\n",
    "                       'WEATHER_DELAY', 'DIVERTED', 'CANCELLED', 'CANCELLATION_REASON',\n",
    "                       'FLIGHT_NUMBER', 'TAIL_NUMBER', 'AIR_TIME']\n",
    "df.drop(variables_to_remove, axis = 1, inplace = True)\n",
    "df = df[['AIRLINE', 'ORIGIN_AIRPORT', 'DESTINATION_AIRPORT',\n",
    "        'SCHEDULED_DEPARTURE', 'DEPARTURE_TIME', 'DEPARTURE_DELAY',\n",
    "        'SCHEDULED_ARRIVAL', 'ARRIVAL_TIME', 'ARRIVAL_DELAY',\n",
    "        'SCHEDULED_TIME', 'ELAPSED_TIME']]\n",
    "df[:5]"
   ]
  },
  {
   "cell_type": "code",
   "execution_count": 11,
   "metadata": {
    "_cell_guid": "f9d7ccec-ad93-491a-b114-ab9a6db73b56",
    "_kg_hide-input": true,
    "_uuid": "6b5db35ee0badf50e777df2bfff70f19b0bda3bc"
   },
   "outputs": [
    {
     "data": {
      "text/html": [
       "<div>\n",
       "<style scoped>\n",
       "    .dataframe tbody tr th:only-of-type {\n",
       "        vertical-align: middle;\n",
       "    }\n",
       "\n",
       "    .dataframe tbody tr th {\n",
       "        vertical-align: top;\n",
       "    }\n",
       "\n",
       "    .dataframe thead th {\n",
       "        text-align: right;\n",
       "    }\n",
       "</style>\n",
       "<table border=\"1\" class=\"dataframe\">\n",
       "  <thead>\n",
       "    <tr style=\"text-align: right;\">\n",
       "      <th></th>\n",
       "      <th>variable</th>\n",
       "      <th>missing values</th>\n",
       "      <th>filling factor (%)</th>\n",
       "    </tr>\n",
       "  </thead>\n",
       "  <tbody>\n",
       "    <tr>\n",
       "      <th>0</th>\n",
       "      <td>ARRIVAL_DELAY</td>\n",
       "      <td>12955</td>\n",
       "      <td>97.243429</td>\n",
       "    </tr>\n",
       "    <tr>\n",
       "      <th>1</th>\n",
       "      <td>ELAPSED_TIME</td>\n",
       "      <td>12955</td>\n",
       "      <td>97.243429</td>\n",
       "    </tr>\n",
       "    <tr>\n",
       "      <th>2</th>\n",
       "      <td>ARRIVAL_TIME</td>\n",
       "      <td>12271</td>\n",
       "      <td>97.388971</td>\n",
       "    </tr>\n",
       "    <tr>\n",
       "      <th>3</th>\n",
       "      <td>DEPARTURE_TIME</td>\n",
       "      <td>11657</td>\n",
       "      <td>97.519618</td>\n",
       "    </tr>\n",
       "    <tr>\n",
       "      <th>4</th>\n",
       "      <td>DEPARTURE_DELAY</td>\n",
       "      <td>11657</td>\n",
       "      <td>97.519618</td>\n",
       "    </tr>\n",
       "    <tr>\n",
       "      <th>5</th>\n",
       "      <td>AIRLINE</td>\n",
       "      <td>0</td>\n",
       "      <td>100.000000</td>\n",
       "    </tr>\n",
       "    <tr>\n",
       "      <th>6</th>\n",
       "      <td>ORIGIN_AIRPORT</td>\n",
       "      <td>0</td>\n",
       "      <td>100.000000</td>\n",
       "    </tr>\n",
       "    <tr>\n",
       "      <th>7</th>\n",
       "      <td>DESTINATION_AIRPORT</td>\n",
       "      <td>0</td>\n",
       "      <td>100.000000</td>\n",
       "    </tr>\n",
       "    <tr>\n",
       "      <th>8</th>\n",
       "      <td>SCHEDULED_DEPARTURE</td>\n",
       "      <td>0</td>\n",
       "      <td>100.000000</td>\n",
       "    </tr>\n",
       "    <tr>\n",
       "      <th>9</th>\n",
       "      <td>SCHEDULED_ARRIVAL</td>\n",
       "      <td>0</td>\n",
       "      <td>100.000000</td>\n",
       "    </tr>\n",
       "    <tr>\n",
       "      <th>10</th>\n",
       "      <td>SCHEDULED_TIME</td>\n",
       "      <td>0</td>\n",
       "      <td>100.000000</td>\n",
       "    </tr>\n",
       "  </tbody>\n",
       "</table>\n",
       "</div>"
      ],
      "text/plain": [
       "               variable  missing values  filling factor (%)\n",
       "0         ARRIVAL_DELAY           12955           97.243429\n",
       "1          ELAPSED_TIME           12955           97.243429\n",
       "2          ARRIVAL_TIME           12271           97.388971\n",
       "3        DEPARTURE_TIME           11657           97.519618\n",
       "4       DEPARTURE_DELAY           11657           97.519618\n",
       "5               AIRLINE               0          100.000000\n",
       "6        ORIGIN_AIRPORT               0          100.000000\n",
       "7   DESTINATION_AIRPORT               0          100.000000\n",
       "8   SCHEDULED_DEPARTURE               0          100.000000\n",
       "9     SCHEDULED_ARRIVAL               0          100.000000\n",
       "10       SCHEDULED_TIME               0          100.000000"
      ]
     },
     "execution_count": 11,
     "metadata": {},
     "output_type": "execute_result"
    }
   ],
   "source": [
    "missing_df = df.isnull().sum(axis=0).reset_index()\n",
    "missing_df.columns = ['variable', 'missing values']\n",
    "missing_df['filling factor (%)']=(df.shape[0]-missing_df['missing values'])/df.shape[0]*100\n",
    "missing_df.sort_values('filling factor (%)').reset_index(drop = True)"
   ]
  },
  {
   "cell_type": "code",
   "execution_count": 12,
   "metadata": {
    "_cell_guid": "374ed8ec-e66d-4964-a0fd-1960fe7a4ea5",
    "_kg_hide-input": true,
    "_uuid": "60bceb5e13bf5af8d460ec96f87341c7dc407a84"
   },
   "outputs": [],
   "source": [
    "df.dropna(inplace = True)"
   ]
  },
  {
   "cell_type": "markdown",
   "metadata": {},
   "source": [
    "### Comparing"
   ]
  },
  {
   "cell_type": "code",
   "execution_count": 13,
   "metadata": {
    "_cell_guid": "cfff7486-c495-4d6b-ba81-429508942f56",
    "_kg_hide-input": true,
    "_uuid": "8608cd6e56aa3663cdc23ea325a9f3760e53eddf"
   },
   "outputs": [
    {
     "data": {
      "text/html": [
       "<div>\n",
       "<style scoped>\n",
       "    .dataframe tbody tr th:only-of-type {\n",
       "        vertical-align: middle;\n",
       "    }\n",
       "\n",
       "    .dataframe tbody tr th {\n",
       "        vertical-align: top;\n",
       "    }\n",
       "\n",
       "    .dataframe thead th {\n",
       "        text-align: right;\n",
       "    }\n",
       "</style>\n",
       "<table border=\"1\" class=\"dataframe\">\n",
       "  <thead>\n",
       "    <tr style=\"text-align: right;\">\n",
       "      <th></th>\n",
       "      <th>IATA_CODE</th>\n",
       "      <th>AIRLINE</th>\n",
       "    </tr>\n",
       "  </thead>\n",
       "  <tbody>\n",
       "    <tr>\n",
       "      <th>0</th>\n",
       "      <td>UA</td>\n",
       "      <td>United Air Lines Inc.</td>\n",
       "    </tr>\n",
       "    <tr>\n",
       "      <th>1</th>\n",
       "      <td>AA</td>\n",
       "      <td>American Airlines Inc.</td>\n",
       "    </tr>\n",
       "    <tr>\n",
       "      <th>2</th>\n",
       "      <td>US</td>\n",
       "      <td>US Airways Inc.</td>\n",
       "    </tr>\n",
       "    <tr>\n",
       "      <th>3</th>\n",
       "      <td>F9</td>\n",
       "      <td>Frontier Airlines Inc.</td>\n",
       "    </tr>\n",
       "    <tr>\n",
       "      <th>4</th>\n",
       "      <td>B6</td>\n",
       "      <td>JetBlue Airways</td>\n",
       "    </tr>\n",
       "    <tr>\n",
       "      <th>5</th>\n",
       "      <td>OO</td>\n",
       "      <td>Skywest Airlines Inc.</td>\n",
       "    </tr>\n",
       "    <tr>\n",
       "      <th>6</th>\n",
       "      <td>AS</td>\n",
       "      <td>Alaska Airlines Inc.</td>\n",
       "    </tr>\n",
       "    <tr>\n",
       "      <th>7</th>\n",
       "      <td>NK</td>\n",
       "      <td>Spirit Air Lines</td>\n",
       "    </tr>\n",
       "    <tr>\n",
       "      <th>8</th>\n",
       "      <td>WN</td>\n",
       "      <td>Southwest Airlines Co.</td>\n",
       "    </tr>\n",
       "    <tr>\n",
       "      <th>9</th>\n",
       "      <td>DL</td>\n",
       "      <td>Delta Air Lines Inc.</td>\n",
       "    </tr>\n",
       "    <tr>\n",
       "      <th>10</th>\n",
       "      <td>EV</td>\n",
       "      <td>Atlantic Southeast Airlines</td>\n",
       "    </tr>\n",
       "    <tr>\n",
       "      <th>11</th>\n",
       "      <td>HA</td>\n",
       "      <td>Hawaiian Airlines Inc.</td>\n",
       "    </tr>\n",
       "    <tr>\n",
       "      <th>12</th>\n",
       "      <td>MQ</td>\n",
       "      <td>American Eagle Airlines Inc.</td>\n",
       "    </tr>\n",
       "    <tr>\n",
       "      <th>13</th>\n",
       "      <td>VX</td>\n",
       "      <td>Virgin America</td>\n",
       "    </tr>\n",
       "  </tbody>\n",
       "</table>\n",
       "</div>"
      ],
      "text/plain": [
       "   IATA_CODE                       AIRLINE\n",
       "0         UA         United Air Lines Inc.\n",
       "1         AA        American Airlines Inc.\n",
       "2         US               US Airways Inc.\n",
       "3         F9        Frontier Airlines Inc.\n",
       "4         B6               JetBlue Airways\n",
       "5         OO         Skywest Airlines Inc.\n",
       "6         AS          Alaska Airlines Inc.\n",
       "7         NK              Spirit Air Lines\n",
       "8         WN        Southwest Airlines Co.\n",
       "9         DL          Delta Air Lines Inc.\n",
       "10        EV   Atlantic Southeast Airlines\n",
       "11        HA        Hawaiian Airlines Inc.\n",
       "12        MQ  American Eagle Airlines Inc.\n",
       "13        VX                Virgin America"
      ]
     },
     "execution_count": 13,
     "metadata": {},
     "output_type": "execute_result"
    }
   ],
   "source": [
    "airlines_names = pd.read_csv('./airlines.csv')\n",
    "airlines_names"
   ]
  },
  {
   "cell_type": "code",
   "execution_count": 14,
   "metadata": {
    "_cell_guid": "3bae09a6-4d88-4457-8758-2b7b4836083d",
    "_uuid": "d0cf6529149105eac1ba48b0ba3e1d246f51b2a0"
   },
   "outputs": [],
   "source": [
    "abbr_companies = airlines_names.set_index('IATA_CODE')['AIRLINE'].to_dict()"
   ]
  },
  {
   "cell_type": "markdown",
   "metadata": {},
   "source": [
    "### Statistical Description of Airlines"
   ]
  },
  {
   "cell_type": "code",
   "execution_count": 15,
   "metadata": {
    "_cell_guid": "4dc47175-b9e5-4c1c-8e7d-e9f4c4a2a0c1",
    "_kg_hide-input": true,
    "_uuid": "4bf03db2985c11552fc1ff40f658a272475b4b26"
   },
   "outputs": [
    {
     "data": {
      "text/html": [
       "<div>\n",
       "<style scoped>\n",
       "    .dataframe tbody tr th:only-of-type {\n",
       "        vertical-align: middle;\n",
       "    }\n",
       "\n",
       "    .dataframe tbody tr th {\n",
       "        vertical-align: top;\n",
       "    }\n",
       "\n",
       "    .dataframe thead th {\n",
       "        text-align: right;\n",
       "    }\n",
       "</style>\n",
       "<table border=\"1\" class=\"dataframe\">\n",
       "  <thead>\n",
       "    <tr style=\"text-align: right;\">\n",
       "      <th></th>\n",
       "      <th>min</th>\n",
       "      <th>max</th>\n",
       "      <th>count</th>\n",
       "      <th>mean</th>\n",
       "    </tr>\n",
       "    <tr>\n",
       "      <th>AIRLINE</th>\n",
       "      <th></th>\n",
       "      <th></th>\n",
       "      <th></th>\n",
       "      <th></th>\n",
       "    </tr>\n",
       "  </thead>\n",
       "  <tbody>\n",
       "    <tr>\n",
       "      <th>VX</th>\n",
       "      <td>-20.0</td>\n",
       "      <td>397.0</td>\n",
       "      <td>4647.0</td>\n",
       "      <td>6.896277</td>\n",
       "    </tr>\n",
       "    <tr>\n",
       "      <th>HA</th>\n",
       "      <td>-26.0</td>\n",
       "      <td>1003.0</td>\n",
       "      <td>6408.0</td>\n",
       "      <td>1.311954</td>\n",
       "    </tr>\n",
       "    <tr>\n",
       "      <th>F9</th>\n",
       "      <td>-32.0</td>\n",
       "      <td>696.0</td>\n",
       "      <td>6735.0</td>\n",
       "      <td>17.910765</td>\n",
       "    </tr>\n",
       "    <tr>\n",
       "      <th>NK</th>\n",
       "      <td>-28.0</td>\n",
       "      <td>557.0</td>\n",
       "      <td>8632.0</td>\n",
       "      <td>13.073100</td>\n",
       "    </tr>\n",
       "    <tr>\n",
       "      <th>AS</th>\n",
       "      <td>-47.0</td>\n",
       "      <td>444.0</td>\n",
       "      <td>13151.0</td>\n",
       "      <td>3.072086</td>\n",
       "    </tr>\n",
       "    <tr>\n",
       "      <th>B6</th>\n",
       "      <td>-27.0</td>\n",
       "      <td>500.0</td>\n",
       "      <td>20482.0</td>\n",
       "      <td>9.988331</td>\n",
       "    </tr>\n",
       "    <tr>\n",
       "      <th>MQ</th>\n",
       "      <td>-29.0</td>\n",
       "      <td>780.0</td>\n",
       "      <td>27568.0</td>\n",
       "      <td>15.995865</td>\n",
       "    </tr>\n",
       "    <tr>\n",
       "      <th>US</th>\n",
       "      <td>-26.0</td>\n",
       "      <td>638.0</td>\n",
       "      <td>32478.0</td>\n",
       "      <td>5.175011</td>\n",
       "    </tr>\n",
       "    <tr>\n",
       "      <th>UA</th>\n",
       "      <td>-40.0</td>\n",
       "      <td>886.0</td>\n",
       "      <td>37363.0</td>\n",
       "      <td>13.885555</td>\n",
       "    </tr>\n",
       "    <tr>\n",
       "      <th>AA</th>\n",
       "      <td>-29.0</td>\n",
       "      <td>1988.0</td>\n",
       "      <td>43074.0</td>\n",
       "      <td>10.548335</td>\n",
       "    </tr>\n",
       "    <tr>\n",
       "      <th>OO</th>\n",
       "      <td>-48.0</td>\n",
       "      <td>931.0</td>\n",
       "      <td>46655.0</td>\n",
       "      <td>11.999957</td>\n",
       "    </tr>\n",
       "    <tr>\n",
       "      <th>EV</th>\n",
       "      <td>-33.0</td>\n",
       "      <td>726.0</td>\n",
       "      <td>48084.0</td>\n",
       "      <td>9.678895</td>\n",
       "    </tr>\n",
       "    <tr>\n",
       "      <th>DL</th>\n",
       "      <td>-26.0</td>\n",
       "      <td>1184.0</td>\n",
       "      <td>63676.0</td>\n",
       "      <td>5.888215</td>\n",
       "    </tr>\n",
       "    <tr>\n",
       "      <th>WN</th>\n",
       "      <td>-15.0</td>\n",
       "      <td>604.0</td>\n",
       "      <td>98060.0</td>\n",
       "      <td>9.453426</td>\n",
       "    </tr>\n",
       "  </tbody>\n",
       "</table>\n",
       "</div>"
      ],
      "text/plain": [
       "          min     max    count       mean\n",
       "AIRLINE                                  \n",
       "VX      -20.0   397.0   4647.0   6.896277\n",
       "HA      -26.0  1003.0   6408.0   1.311954\n",
       "F9      -32.0   696.0   6735.0  17.910765\n",
       "NK      -28.0   557.0   8632.0  13.073100\n",
       "AS      -47.0   444.0  13151.0   3.072086\n",
       "B6      -27.0   500.0  20482.0   9.988331\n",
       "MQ      -29.0   780.0  27568.0  15.995865\n",
       "US      -26.0   638.0  32478.0   5.175011\n",
       "UA      -40.0   886.0  37363.0  13.885555\n",
       "AA      -29.0  1988.0  43074.0  10.548335\n",
       "OO      -48.0   931.0  46655.0  11.999957\n",
       "EV      -33.0   726.0  48084.0   9.678895\n",
       "DL      -26.0  1184.0  63676.0   5.888215\n",
       "WN      -15.0   604.0  98060.0   9.453426"
      ]
     },
     "execution_count": 15,
     "metadata": {},
     "output_type": "execute_result"
    }
   ],
   "source": [
    "# function that extract statistical parameters from a grouby objet:\n",
    "def get_stats(group):\n",
    "    return {'min': group.min(), 'max': group.max(),\n",
    "            'count': group.count(), 'mean': group.mean()}\n",
    "\n",
    "# Creation of a dataframe with statitical infos on each airline:\n",
    "global_stats = df['DEPARTURE_DELAY'].groupby(df['AIRLINE']).apply(get_stats).unstack()\n",
    "global_stats = global_stats.sort_values('count')\n",
    "global_stats"
   ]
  },
  {
   "cell_type": "code",
   "execution_count": 16,
   "metadata": {
    "_cell_guid": "043c3b7d-06b0-4785-ba63-6ff0f4bd495f",
    "_kg_hide-input": true,
    "_uuid": "4e48ddde536f319230619c786e9780bc7b25d4ad"
   },
   "outputs": [
    {
     "name": "stdout",
     "output_type": "stream",
     "text": [
      "Nb of airports: 312\n"
     ]
    }
   ],
   "source": [
    "print(\"Nb of airports: {}\".format(len(df['ORIGIN_AIRPORT'].unique())))"
   ]
  },
  {
   "cell_type": "code",
   "execution_count": 17,
   "metadata": {
    "_cell_guid": "39b8aac0-5def-4a9b-8578-369e66eee662",
    "_kg_hide-input": true,
    "_uuid": "6110299e5f3920e097bd0dd0669315c5b7ab2cd0"
   },
   "outputs": [],
   "source": [
    "origin_nb = dict()\n",
    "for carrier in abbr_companies.keys():\n",
    "    liste_origin_airport = df[df['AIRLINE'] == carrier]['ORIGIN_AIRPORT'].unique()\n",
    "    origin_nb[carrier] = len(liste_origin_airport)"
   ]
  },
  {
   "cell_type": "code",
   "execution_count": 18,
   "metadata": {
    "_cell_guid": "268b73f5-79df-4341-8576-901b61c5fa8d",
    "_kg_hide-input": true,
    "_uuid": "0dae75ac6bfb237065cd066ab393a5421ea70bd4"
   },
   "outputs": [
    {
     "data": {
      "image/png": "[encoded data removed]",
      "text/plain": [
       "<Figure size 576x216 with 1 Axes>"
      ]
     },
     "metadata": {
      "needs_background": "light"
     },
     "output_type": "display_data"
    }
   ],
   "source": [
    "test_df = pd.DataFrame.from_dict(origin_nb, orient='index')\n",
    "test_df.rename(columns = {0:'count'}, inplace = True)\n",
    "ax = test_df.plot(kind='bar', figsize = (8,3))\n",
    "labels = [abbr_companies[item.get_text()] for item in ax.get_xticklabels()]\n",
    "ax.set_xticklabels(labels)\n",
    "plt.ylabel('Number of airports visited', fontsize=14, weight = 'bold', labelpad=12)\n",
    "plt.setp(ax.get_xticklabels(), fontsize=11, ha = 'right', rotation = 80)\n",
    "ax.legend().set_visible(False)\n",
    "plt.show()"
   ]
  },
  {
   "cell_type": "code",
   "execution_count": 19,
   "metadata": {
    "_cell_guid": "1817c61a-011e-47bb-a81c-a3ceab74af90",
    "_kg_hide-input": true,
    "_uuid": "1b28154f76dc2ed297b84a10ad3c1352af503dd7"
   },
   "outputs": [],
   "source": [
    "temp = pd.read_csv('./airports.csv')\n",
    "identify_airport = temp.set_index('IATA_CODE')['CITY'].to_dict()\n",
    "latitude_airport = temp.set_index('IATA_CODE')['LATITUDE'].to_dict()\n",
    "longitude_airport = temp.set_index('IATA_CODE')['LONGITUDE'].to_dict()"
   ]
  },
  {
   "cell_type": "markdown",
   "metadata": {},
   "source": [
    "### Airport Impact Delays"
   ]
  },
  {
   "cell_type": "code",
   "execution_count": 20,
   "metadata": {
    "_cell_guid": "a47b96fd-5650-4fe2-916a-54734816033f",
    "_kg_hide-input": true,
    "_uuid": "9edca92438d893df9caafd9b066d547f79c4756c"
   },
   "outputs": [],
   "source": [
    "airport_mean_delays = pd.DataFrame(pd.Series(df['ORIGIN_AIRPORT'].unique()))\n",
    "airport_mean_delays.set_index(0, drop = True, inplace = True)\n",
    "\n",
    "for carrier in abbr_companies.keys():\n",
    "    df1 = df[df['AIRLINE'] == carrier]\n",
    "    test = df1['DEPARTURE_DELAY'].groupby(df['ORIGIN_AIRPORT']).apply(get_stats).unstack()\n",
    "    airport_mean_delays[carrier] = test.loc[:, 'mean'] "
   ]
  },
  {
   "cell_type": "code",
   "execution_count": 21,
   "metadata": {
    "_cell_guid": "b029d5eb-50e6-4461-87fc-7effed9e5bd2",
    "_kg_hide-input": true,
    "_uuid": "a7e8d24ce06a878fbfb8a6bc405d560331c679ed"
   },
   "outputs": [
    {
     "data": {
      "image/png": "[encoded data removed]",
      "text/plain": [
       "<Figure size 576x576 with 4 Axes>"
      ]
     },
     "metadata": {},
     "output_type": "display_data"
    }
   ],
   "source": [
    "sns.set(context=\"paper\")\n",
    "fig = plt.figure(1, figsize=(8,8))\n",
    "\n",
    "ax = fig.add_subplot(1,2,1)\n",
    "subset = airport_mean_delays.iloc[:50,:].rename(columns = abbr_companies)\n",
    "subset = subset.rename(index = identify_airport)\n",
    "mask = subset.isnull()\n",
    "sns.heatmap(subset, linewidths=0.01, cmap=\"Accent\", mask=mask, vmin = 0, vmax = 35)\n",
    "plt.setp(ax.get_xticklabels(), fontsize=10, rotation = 85) ;\n",
    "ax.yaxis.label.set_visible(False)\n",
    "\n",
    "ax = fig.add_subplot(1,2,2)    \n",
    "subset = airport_mean_delays.iloc[50:100,:].rename(columns = abbr_companies)\n",
    "subset = subset.rename(index = identify_airport)\n",
    "fig.text(0.5, 1.02, \"Delays: impact of the origin airport\", ha='center', fontsize = 18)\n",
    "mask = subset.isnull()\n",
    "sns.heatmap(subset, linewidths=0.01, cmap=\"Accent\", mask=mask, vmin = 0, vmax = 35)\n",
    "plt.setp(ax.get_xticklabels(), fontsize=10, rotation = 85) ;\n",
    "ax.yaxis.label.set_visible(False)\n",
    "\n",
    "plt.tight_layout()"
   ]
  },
  {
   "cell_type": "code",
   "execution_count": 22,
   "metadata": {
    "_cell_guid": "022950ad-11de-4fc5-b886-cb514b2f23eb",
    "_kg_hide-input": true,
    "_uuid": "58ddb1bf79651be32d3826667699f181160b463c"
   },
   "outputs": [],
   "source": [
    "# We select the company and create a subset of the main dataframe\n",
    "carrier = 'AA'\n",
    "df1 = df[df['AIRLINE']==carrier][['ORIGIN_AIRPORT','DESTINATION_AIRPORT','DEPARTURE_DELAY']]\n",
    "\n",
    "# I collect the routes and list the delays for each of them\n",
    "trajet = dict()\n",
    "for ind, col in df1.iterrows():\n",
    "    if pd.isnull(col['DEPARTURE_DELAY']): continue\n",
    "    route = str(col['ORIGIN_AIRPORT'])+'-'+str(col['DESTINATION_AIRPORT'])\n",
    "    if route in trajet.keys():\n",
    "        trajet[route].append(col['DEPARTURE_DELAY'])\n",
    "    else:\n",
    "        trajet[route] = [col['DEPARTURE_DELAY']]\n",
    "\n",
    "# I transpose the dictionary in a list to sort the routes by origins        \n",
    "liste_trajet = []\n",
    "for key, value in trajet.items():\n",
    "    liste_trajet.append([key, value])\n",
    "liste_trajet.sort()"
   ]
  },
  {
   "cell_type": "code",
   "execution_count": 23,
   "metadata": {
    "_cell_guid": "3da1d635-a509-4d22-9aa6-b0f0ce4b7a96",
    "_kg_hide-input": true,
    "_uuid": "d4379e7130cc6d957ec53625aee57b6681d89882"
   },
   "outputs": [
    {
     "data": {
      "image/png": "[encoded data removed]",
      "text/plain": [
       "<Figure size 720x288 with 1 Axes>"
      ]
     },
     "metadata": {},
     "output_type": "display_data"
    }
   ],
   "source": [
    "mean_val = [] ; std_val = [] ; x_label = []\n",
    "\n",
    "i = 0\n",
    "for route, liste_retards in liste_trajet:\n",
    "    #_____________________________________________\n",
    "    # I set the labels as the airport from origin\n",
    "    index = route.split('-')[0]\n",
    "    x_label.append(identify_airport[index])\n",
    "    #______________________________________________________________________________\n",
    "    # I put a threshold on delays to prevent that high values take too much weight\n",
    "    trajet2 = [min(90, s) for s in liste_retards]\n",
    "    #________________________________________\n",
    "    # I compute mean and standard deviations\n",
    "    mean_val.append(scipy.mean(trajet2))\n",
    "    std_val.append(scipy.std(trajet2))\n",
    "    i += 1\n",
    "#________________\n",
    "# Plot the graph\n",
    "fig, ax = plt.subplots(figsize=(10,4))\n",
    "std_min = [ min(15 + mean_val[i], s) for i,s in enumerate(std_val)] \n",
    "ax.errorbar(list(range(i)), mean_val, yerr = [std_min, std_val], fmt='o') \n",
    "ax.set_title('Mean route delays for \"{}\"'.format(abbr_companies[carrier]),\n",
    "             fontsize=14, weight = 'bold')\n",
    "plt.ylabel('Mean delay at origin (minutes)', fontsize=14, weight = 'bold', labelpad=12)\n",
    "#___________________________________________________\n",
    "# I define the x,y range and positions of the ticks\n",
    "imin, imax = 145, 230\n",
    "plt.xlim(imin, imax) ; plt.ylim(-20, 45)\n",
    "liste_ticks = [imin]\n",
    "for j in range(imin+1,imax):\n",
    "    if x_label[j] == x_label[j-1]: continue\n",
    "    liste_ticks.append(j)\n",
    "#_____________________________\n",
    "# and set the tick parameters  \n",
    "ax.set_xticks(liste_ticks)\n",
    "ax.set_xticklabels([x_label[int(x)] for x in ax.get_xticks()], rotation = 90, fontsize = 8)\n",
    "plt.setp(ax.get_yticklabels(), fontsize=12, rotation = 0)\n",
    "ax.tick_params(axis='y', which='major', pad=15)\n",
    "\n",
    "plt.show()"
   ]
  },
  {
   "cell_type": "markdown",
   "metadata": {},
   "source": [
    "### Predicting delays "
   ]
  },
  {
   "cell_type": "code",
   "execution_count": 24,
   "metadata": {
    "_cell_guid": "63031db7-e01a-4016-bd3f-882c67374009",
    "_kg_hide-input": true,
    "_uuid": "95ffff28eba2f3cd3696f4b35311d62c79f10398"
   },
   "outputs": [],
   "source": [
    "df_train = df[df['SCHEDULED_DEPARTURE'].apply(lambda x:x.date()) < datetime.date(2015, 1, 23)]\n",
    "df_test  = df[df['SCHEDULED_DEPARTURE'].apply(lambda x:x.date()) > datetime.date(2015, 1, 23)]\n",
    "df = df_train"
   ]
  },
  {
   "cell_type": "code",
   "execution_count": 25,
   "metadata": {
    "_cell_guid": "a5ac7770-c74a-44b9-a395-01abed8e539b",
    "_kg_hide-input": true,
    "_uuid": "14669a9c51e5f6763187940a79209622b15a2a80",
    "scrolled": true
   },
   "outputs": [
    {
     "data": {
      "text/html": [
       "<div>\n",
       "<style scoped>\n",
       "    .dataframe tbody tr th:only-of-type {\n",
       "        vertical-align: middle;\n",
       "    }\n",
       "\n",
       "    .dataframe tbody tr th {\n",
       "        vertical-align: top;\n",
       "    }\n",
       "\n",
       "    .dataframe thead th {\n",
       "        text-align: right;\n",
       "    }\n",
       "</style>\n",
       "<table border=\"1\" class=\"dataframe\">\n",
       "  <thead>\n",
       "    <tr style=\"text-align: right;\">\n",
       "      <th></th>\n",
       "      <th>min</th>\n",
       "      <th>max</th>\n",
       "      <th>count</th>\n",
       "      <th>mean</th>\n",
       "    </tr>\n",
       "    <tr>\n",
       "      <th>ORIGIN_AIRPORT</th>\n",
       "      <th></th>\n",
       "      <th></th>\n",
       "      <th></th>\n",
       "      <th></th>\n",
       "    </tr>\n",
       "  </thead>\n",
       "  <tbody>\n",
       "    <tr>\n",
       "      <th>JAC</th>\n",
       "      <td>-19.0</td>\n",
       "      <td>47.0</td>\n",
       "      <td>25.0</td>\n",
       "      <td>-3.640000</td>\n",
       "    </tr>\n",
       "    <tr>\n",
       "      <th>GUC</th>\n",
       "      <td>-24.0</td>\n",
       "      <td>199.0</td>\n",
       "      <td>22.0</td>\n",
       "      <td>13.227273</td>\n",
       "    </tr>\n",
       "    <tr>\n",
       "      <th>SDF</th>\n",
       "      <td>-8.0</td>\n",
       "      <td>55.0</td>\n",
       "      <td>19.0</td>\n",
       "      <td>8.421053</td>\n",
       "    </tr>\n",
       "    <tr>\n",
       "      <th>LIT</th>\n",
       "      <td>-5.0</td>\n",
       "      <td>74.0</td>\n",
       "      <td>9.0</td>\n",
       "      <td>12.555556</td>\n",
       "    </tr>\n",
       "    <tr>\n",
       "      <th>MTJ</th>\n",
       "      <td>-2.0</td>\n",
       "      <td>51.0</td>\n",
       "      <td>3.0</td>\n",
       "      <td>26.000000</td>\n",
       "    </tr>\n",
       "  </tbody>\n",
       "</table>\n",
       "</div>"
      ],
      "text/plain": [
       "                 min    max  count       mean\n",
       "ORIGIN_AIRPORT                               \n",
       "JAC            -19.0   47.0   25.0  -3.640000\n",
       "GUC            -24.0  199.0   22.0  13.227273\n",
       "SDF             -8.0   55.0   19.0   8.421053\n",
       "LIT             -5.0   74.0    9.0  12.555556\n",
       "MTJ             -2.0   51.0    3.0  26.000000"
      ]
     },
     "execution_count": 25,
     "metadata": {},
     "output_type": "execute_result"
    }
   ],
   "source": [
    "carrier = 'AA'\n",
    "check_airports = df[(df['AIRLINE'] == carrier)]['DEPARTURE_DELAY'].groupby(\n",
    "                         df['ORIGIN_AIRPORT']).apply(get_stats).unstack()\n",
    "check_airports.sort_values('count', ascending = False, inplace = True)\n",
    "check_airports[-5:]"
   ]
  },
  {
   "cell_type": "code",
   "execution_count": 26,
   "metadata": {
    "_cell_guid": "5c633257-bea9-47c5-ae2f-4ed801b73e9b",
    "_kg_hide-input": true,
    "_uuid": "580e60245d6a0b9a169dc41ce7210d881d641e6d"
   },
   "outputs": [],
   "source": [
    "def get_flight_delays(df, carrier, id_airport, extrem_values = False):\n",
    "    df2 = df[(df['AIRLINE'] == carrier) & (df['ORIGIN_AIRPORT'] == id_airport)]\n",
    "    #_______________________________________\n",
    "    # remove extreme values before fitting\n",
    "    if extrem_values:\n",
    "        df2['DEPARTURE_DELAY'] = df2['DEPARTURE_DELAY'].apply(lambda x:x if x < 60 else np.nan)\n",
    "        df2.dropna(how = 'any')\n",
    "    #__________________________________\n",
    "    # Conversion: date + heure -> heure\n",
    "    df2.sort_values('SCHEDULED_DEPARTURE', inplace = True)\n",
    "    df2['heure_depart'] =  df2['SCHEDULED_DEPARTURE'].apply(lambda x:x.time())\n",
    "    #___________________________________________________________________\n",
    "    # regroupement des vols par heure de départ et calcul de la moyenne\n",
    "    test2 = df2['DEPARTURE_DELAY'].groupby(df2['heure_depart']).apply(get_stats).unstack()\n",
    "    test2.reset_index(inplace=True)\n",
    "    #___________________________________\n",
    "    # conversion de l'heure en secondes\n",
    "    fct = lambda x:x.hour*3600+x.minute*60+x.second\n",
    "    test2.reset_index(inplace=True)\n",
    "    test2['heure_depart_min'] = test2['heure_depart'].apply(fct)\n",
    "    return test2"
   ]
  },
  {
   "cell_type": "code",
   "execution_count": 27,
   "metadata": {
    "_cell_guid": "4c6ed950-f937-42d6-b17f-064a5d4360d6",
    "_kg_hide-input": true,
    "_uuid": "e8473b42f7d79ffcb6b57eb4bfbc2c721d22aa9d"
   },
   "outputs": [],
   "source": [
    "def linear_regression(test2):\n",
    "    test = test2[['mean', 'heure_depart_min']].dropna(how='any', axis = 0)\n",
    "    X = np.array(test['heure_depart_min'])\n",
    "    Y = np.array(test['mean'])\n",
    "    X = X.reshape(len(X),1)\n",
    "    Y = Y.reshape(len(Y),1)\n",
    "    regr = linear_model.LinearRegression()\n",
    "    regr.fit(X, Y)\n",
    "    result = regr.predict(X)\n",
    "    return X, Y, result"
   ]
  },
  {
   "cell_type": "code",
   "execution_count": 28,
   "metadata": {
    "_cell_guid": "aaef6a0c-a906-4976-a01c-af2912ed11ae",
    "_kg_hide-input": true,
    "_uuid": "bcd29151c3e608a057dfbdd9359c9dbb506fdb8b"
   },
   "outputs": [],
   "source": [
    "class fit_polynome:\n",
    "\n",
    "    def __init__(self, data):\n",
    "        self.data = data[['mean', 'heure_depart_min']].dropna(how='any', axis = 0)\n",
    "\n",
    "    def split(self, method):        \n",
    "        self.method = method        \n",
    "        self.X = np.array(self.data['heure_depart_min'])\n",
    "        self.Y = np.array(self.data['mean'])\n",
    "        self.X = self.X.reshape(len(self.X),1)\n",
    "        self.Y = self.Y.reshape(len(self.Y),1)\n",
    "\n",
    "        if method == 'all':\n",
    "            self.X_train = self.X\n",
    "            self.Y_train = self.Y\n",
    "            self.X_test  = self.X\n",
    "            self.Y_test  = self.Y                        \n",
    "        elif method == 'split':            \n",
    "            self.X_train, self.X_test, self.Y_train, self.Y_test = \\\n",
    "                train_test_split(self.X, self.Y, test_size=0.3)\n",
    "    \n",
    "    def train(self, pol_order):\n",
    "        self.poly = PolynomialFeatures(degree = pol_order)\n",
    "        self.regr = linear_model.LinearRegression()\n",
    "        self.X_ = self.poly.fit_transform(self.X_train)\n",
    "        self.regr.fit(self.X_, self.Y_train)\n",
    "    \n",
    "    def predict(self, X):\n",
    "        self.X_ = self.poly.fit_transform(X)\n",
    "        self.result = self.regr.predict(self.X_)\n",
    "    \n",
    "    def calc_score(self):        \n",
    "        X_ = self.poly.fit_transform(self.X_test)\n",
    "        result = self.regr.predict(X_)\n",
    "        self.score = metrics.mean_squared_error(result, self.Y_test)"
   ]
  },
  {
   "cell_type": "code",
   "execution_count": 29,
   "metadata": {
    "_cell_guid": "18d83821-21a3-4e86-98e1-9447c0a6a91b",
    "_kg_hide-input": true,
    "_uuid": "7153eb56e2539d60348313d5c63b5fd1110c118b"
   },
   "outputs": [
    {
     "name": "stdout",
     "output_type": "stream",
     "text": [
      "modèle nº1 , min. pour n = 1, score = 21.9\n",
      "modèle nº2 , min. pour n = 1, score = 191.2\n",
      "modèle nº3 , min. pour n = 1, score = 50.1\n",
      "modèle nº4 , min. pour n = 1, score = 28.0\n",
      "modèle nº5 , min. pour n = 1, score = 194.4\n",
      "modèle nº6 , min. pour n = 1, score = 141.9\n",
      "modèle nº7 , min. pour n = 1, score = 156.1\n",
      "modèle nº8 , min. pour n = 1, score = 129.9\n",
      "modèle nº9 , min. pour n = 1, score = 17.0\n",
      "modèle nº10, min. pour n = 1, score = 58.6\n",
      "modèle nº11, min. pour n = 1, score = 60.9\n",
      "modèle nº12, min. pour n = 2, score = 19.9\n",
      "modèle nº13, min. pour n = 1, score = 37.1\n",
      "modèle nº14, min. pour n = 1, score = 33.8\n",
      "modèle nº15, min. pour n = 1, score = 62.5\n",
      "modèle nº16, min. pour n = 1, score = 209.1\n",
      "modèle nº17, min. pour n = 1, score = 21.9\n",
      "modèle nº18, min. pour n = 1, score = 229.6\n",
      "modèle nº19, min. pour n = 1, score = 53.4\n",
      "modèle nº20, min. pour n = 1, score = 148.5\n",
      "modèle nº21, min. pour n = 1, score = 142.1\n",
      "modèle nº22, min. pour n = 1, score = 132.7\n",
      "modèle nº23, min. pour n = 2, score = 66.1\n",
      "modèle nº24, min. pour n = 1, score = 130.7\n",
      "modèle nº25, min. pour n = 2, score = 152.0\n",
      "modèle nº26, min. pour n = 1, score = 57.3\n",
      "modèle nº27, min. pour n = 3, score = 13.7\n"
     ]
    },
    {
     "data": {
      "image/png": "[encoded data removed]",
      "text/plain": [
       "<Figure size 720x288 with 3 Axes>"
      ]
     },
     "metadata": {},
     "output_type": "display_data"
    }
   ],
   "source": [
    "fig = plt.figure(1, figsize=(10,4))\n",
    "\n",
    "ax = ['_' for _ in range(4)]\n",
    "ax[1]=fig.add_subplot(131) \n",
    "ax[2]=fig.add_subplot(132) \n",
    "ax[3]=fig.add_subplot(133) \n",
    "\n",
    "id_airport = 'BNA'\n",
    "test2 = get_flight_delays(df, carrier, id_airport, True)\n",
    "\n",
    "result = ['_' for _ in range(4)]\n",
    "score = [10000 for _ in range(4)]\n",
    "found = [False for _ in range(4)]\n",
    "fit = fit_polynome(test2)\n",
    "\n",
    "color = '.rgbyc'\n",
    "\n",
    "inc = 0\n",
    "while True:\n",
    "    inc += 1\n",
    "    fit.split('split')\n",
    "    for i in range(1,4):\n",
    "        fit.train(pol_order = i)\n",
    "        fit.predict(fit.X)\n",
    "        result[i] = fit.result\n",
    "        fit.calc_score()\n",
    "        score[i]  = fit.score\n",
    "\n",
    "    [ind_min] = [j for j,val in enumerate(score) if min(score) == val]\n",
    "    print(\"modèle nº{:<2}, min. pour n = {}, score = {:.1f}\".format(inc, ind_min,score[ind_min]))\n",
    "    \n",
    "    if not found[ind_min]:            \n",
    "        for i in range(1,4):\n",
    "            ax[ind_min].plot(fit.X, result[i], color[i], linewidth = 4 if i == ind_min else 1)\n",
    "        ax[ind_min].scatter(fit.X, fit.Y)                \n",
    "        ax[ind_min].text(0.05, 0.95, 'MSE = {:.1f}, {:.1f}, {:.1f}'.format(*score[1:4]),\n",
    "                         style='italic', transform=ax[ind_min].transAxes, fontsize = 8,\n",
    "                         bbox={'facecolor':'tomato', 'alpha':0.8, 'pad':5})                \n",
    "        found[ind_min] = True\n",
    "\n",
    "    shift = 0.5\n",
    "    plt.text(-1+shift, 1.05, \"polynomial order:\", color = 'k',\n",
    "                transform=ax[2].transAxes, fontsize = 16, family='fantasy')\n",
    "    plt.text(0+shift, 1.05, \"n = 1\", color = 'r', \n",
    "                transform=ax[2].transAxes, fontsize = 16, family='fantasy')\n",
    "    plt.text(0.4+shift, 1.05, \"n = 2\", color = 'g', \n",
    "                transform=ax[2].transAxes, fontsize = 16, family='fantasy')\n",
    "    plt.text(0.8+shift, 1.05, \"n = 3\", color = 'b',\n",
    "                transform=ax[2].transAxes, fontsize = 16, family='fantasy')\n",
    "   \n",
    "    if inc == 40 or all(found[1:4]): break"
   ]
  },
  {
   "cell_type": "code",
   "execution_count": 30,
   "metadata": {
    "_cell_guid": "b814a927-3dee-460f-b7fd-c0635139876f",
    "_kg_hide-input": true,
    "_uuid": "75d681e49174ab51957f451a6d06db9dd0419a0c"
   },
   "outputs": [],
   "source": [
    "class fit_polynome_cv:\n",
    "\n",
    "    def __init__(self, data):\n",
    "        self.data = data[['mean', 'heure_depart_min']].dropna(how='any', axis = 0)\n",
    "        self.X = np.array(self.data['heure_depart_min'])\n",
    "        self.Y = np.array(self.data['mean'])\n",
    "        self.X = self.X.reshape(len(self.X),1)\n",
    "        self.Y = self.Y.reshape(len(self.Y),1)\n",
    "\n",
    "    def train(self, pol_order, nb_folds):\n",
    "        self.poly = PolynomialFeatures(degree = pol_order)\n",
    "        self.regr = linear_model.LinearRegression()\n",
    "        self.X_ = self.poly.fit_transform(self.X)\n",
    "        self.result = cross_val_predict(self.regr, self.X_, self.Y, cv = nb_folds)\n",
    "    \n",
    "    def calc_score(self, pol_order, nb_folds):\n",
    "        self.poly = PolynomialFeatures(degree = pol_order)\n",
    "        self.regr = linear_model.LinearRegression()\n",
    "        self.X_ = self.poly.fit_transform(self.X)\n",
    "        self.score = np.mean(cross_val_score(self.regr, self.X_, self.Y,\n",
    "                                             cv = nb_folds, scoring = 'neg_mean_squared_error'))"
   ]
  },
  {
   "cell_type": "markdown",
   "metadata": {},
   "source": [
    "### K-fold"
   ]
  },
  {
   "cell_type": "code",
   "execution_count": 31,
   "metadata": {
    "_cell_guid": "df2f090b-7711-4392-8347-6d3a5e6ebd91",
    "_kg_hide-input": true,
    "_uuid": "eb508c4231e809d79ea85b27fe545f21da4d5383"
   },
   "outputs": [
    {
     "name": "stdout",
     "output_type": "stream",
     "text": [
      "Max possible number of folds: 16 \n",
      "\n",
      "n=1 -> MSE = 130.629\n",
      "n=2 -> MSE = 151.79\n",
      "n=3 -> MSE = 159.455\n",
      "n=4 -> MSE = 162.631\n",
      "n=5 -> MSE = 166.966\n",
      "n=6 -> MSE = 173.08\n",
      "n=7 -> MSE = 181.361\n"
     ]
    }
   ],
   "source": [
    "#id_airport = 1129804 \n",
    "nb_folds = 10\n",
    "print('Max possible number of folds: {} \\n'.format(test2.shape[0]-1))\n",
    "fit2 = fit_polynome_cv(test2)\n",
    "for i in range(1, 8):\n",
    "    fit2.calc_score(i, nb_folds)\n",
    "    print('n={} -> MSE = {}'.format(i, round(abs(fit2.score),3)))"
   ]
  },
  {
   "cell_type": "code",
   "execution_count": 32,
   "metadata": {
    "_cell_guid": "e2f6a399-1175-4c91-a435-30787e83a59b",
    "_kg_hide-input": true,
    "_uuid": "e6aa06f9b741f0d2cd81383d5605be6f9c5a90cb"
   },
   "outputs": [],
   "source": [
    "fit = fit_polynome(test2)\n",
    "fit.split('all')\n",
    "fit.train(pol_order = 2)\n",
    "fit.predict(fit.X)"
   ]
  },
  {
   "cell_type": "code",
   "execution_count": 33,
   "metadata": {
    "_cell_guid": "3f8f96bc-dfe2-4a12-8c4a-af88eba374d6",
    "_kg_hide-input": true,
    "_uuid": "d952428934031ce39f06bd269c9f4097cd71b6ad"
   },
   "outputs": [],
   "source": [
    "fit2.train(pol_order = 2, nb_folds = nb_folds)"
   ]
  },
  {
   "cell_type": "code",
   "execution_count": 34,
   "metadata": {
    "_cell_guid": "865f74ba-04f8-47ae-a3be-83b3a0b7e472",
    "_kg_hide-input": true,
    "_uuid": "0590efe2bae50fe13a205a926d16e604f101e509"
   },
   "outputs": [
    {
     "data": {
      "text/plain": [
       "56.86284771892097"
      ]
     },
     "execution_count": 34,
     "metadata": {},
     "output_type": "execute_result"
    }
   ],
   "source": [
    "score = metrics.mean_squared_error(fit.result, fit2.Y)\n",
    "score"
   ]
  },
  {
   "cell_type": "code",
   "execution_count": 35,
   "metadata": {
    "_cell_guid": "1ea411e5-6d31-403e-9393-2921d8fd1557",
    "_kg_hide-input": true,
    "_uuid": "b2c03f38cb6e5ba506313b30ab4aa8655fcfbaae"
   },
   "outputs": [],
   "source": [
    "test_data = get_flight_delays(df_test, carrier, id_airport, True)\n",
    "test_data = test_data[['mean', 'heure_depart_min']].dropna(how='any', axis = 0)\n",
    "X_test = np.array(test_data['heure_depart_min'])\n",
    "Y_test = np.array(test_data['mean'])\n",
    "X_test = X_test.reshape(len(X_test),1)\n",
    "Y_test = Y_test.reshape(len(Y_test),1)\n",
    "fit.predict(X_test)"
   ]
  },
  {
   "cell_type": "code",
   "execution_count": 36,
   "metadata": {
    "_cell_guid": "9ac44eea-b6b0-42b0-89e3-9f27ee29b9ae",
    "_kg_hide-input": true,
    "_uuid": "d63b26d6ed3b378eed1deaba47f5efc373ffaaf0"
   },
   "outputs": [
    {
     "data": {
      "text/plain": [
       "108.6713085157708"
      ]
     },
     "execution_count": 36,
     "metadata": {},
     "output_type": "execute_result"
    }
   ],
   "source": [
    "score = metrics.mean_squared_error(fit.result, Y_test)\n",
    "score"
   ]
  },
  {
   "cell_type": "code",
   "execution_count": 37,
   "metadata": {
    "_cell_guid": "9ee27ac1-e05b-4cd3-a094-7d97539d3c5e",
    "_kg_hide-input": true,
    "_uuid": "b7a9b91f106b184406987757723822f5e58fc766"
   },
   "outputs": [
    {
     "data": {
      "text/plain": [
       "'Ecart = 10.42 min'"
      ]
     },
     "execution_count": 37,
     "metadata": {},
     "output_type": "execute_result"
    }
   ],
   "source": [
    "'Ecart = {:.2f} min'.format(np.sqrt(score))"
   ]
  },
  {
   "cell_type": "code",
   "execution_count": 38,
   "metadata": {
    "_cell_guid": "c658c5c9-8f2a-4571-af64-49dac3e04d98",
    "_kg_hide-input": true,
    "_uuid": "a571c2e8801ccd3a2ac77b759b8509225bb64545"
   },
   "outputs": [],
   "source": [
    "def get_merged_delays(df, carrier):\n",
    "    liste_airports = df[df['AIRLINE'] == carrier]['ORIGIN_AIRPORT'].unique()\n",
    "    i = 0\n",
    "    liste_columns = ['AIRPORT_ID', 'heure_depart_min', 'mean']\n",
    "    for id_airport in liste_airports:\n",
    "        test2 = get_flight_delays(df, carrier, id_airport, True)\n",
    "        test2.loc[:, 'AIRPORT_ID'] = id_airport\n",
    "        test2 = test2[liste_columns]\n",
    "        test2.dropna(how = 'any', inplace = True)\n",
    "        if i == 0:\n",
    "            merged_df = test2.copy()\n",
    "        else:\n",
    "            merged_df = pd.concat([merged_df, test2], ignore_index = True)\n",
    "        i += 1    \n",
    "    return merged_df"
   ]
  },
  {
   "cell_type": "code",
   "execution_count": 39,
   "metadata": {},
   "outputs": [
    {
     "data": {
      "text/plain": [
       "(1831, 3)"
      ]
     },
     "execution_count": 39,
     "metadata": {},
     "output_type": "execute_result"
    }
   ],
   "source": [
    "carrier = 'AA'\n",
    "merged_df = get_merged_delays(df, carrier)\n",
    "merged_df.shape"
   ]
  },
  {
   "cell_type": "code",
   "execution_count": 40,
   "metadata": {
    "_cell_guid": "4a987b80-d23d-4e42-a899-6e27ec6f18c3",
    "_kg_hide-input": true,
    "_uuid": "b91e742677cb0f116b7ab6f47c6bc9c50d52a340"
   },
   "outputs": [
    {
     "data": {
      "text/plain": [
       "[(0, 'ABQ'), (1, 'ATL'), (2, 'AUS'), (3, 'BDL'), (4, 'BHM')]"
      ]
     },
     "execution_count": 40,
     "metadata": {},
     "output_type": "execute_result"
    }
   ],
   "source": [
    "label_encoder = LabelEncoder()\n",
    "integer_encoded = label_encoder.fit_transform(merged_df['AIRPORT_ID'])\n",
    "#__________________________________________________________\n",
    "# correspondance between the codes and tags of the airports\n",
    "zipped = zip(integer_encoded, merged_df['AIRPORT_ID'])\n",
    "label_airports = list(set(list(zipped)))\n",
    "label_airports.sort(key = lambda x:x[0])\n",
    "label_airports[:5]"
   ]
  },
  {
   "cell_type": "code",
   "execution_count": 41,
   "metadata": {
    "_cell_guid": "38314306-f6e3-4a8f-951a-ddcd5f9af175",
    "_kg_hide-input": true,
    "_uuid": "0d4968e3f7a0eb4957accd19a604a836b49cf6f3"
   },
   "outputs": [
    {
     "name": "stdout",
     "output_type": "stream",
     "text": [
      "(1831, 82) (1831, 1)\n"
     ]
    }
   ],
   "source": [
    "onehot_encoder = OneHotEncoder(sparse=False)\n",
    "integer_encoded = integer_encoded.reshape(len(integer_encoded), 1)\n",
    "onehot_encoded = onehot_encoder.fit_transform(integer_encoded)\n",
    "b = np.array(merged_df['heure_depart_min'])\n",
    "b = b.reshape(len(b),1)\n",
    "X = np.hstack((onehot_encoded, b))\n",
    "Y = np.array(merged_df['mean'])\n",
    "Y = Y.reshape(len(Y), 1)\n",
    "print(X.shape, Y.shape)"
   ]
  },
  {
   "cell_type": "markdown",
   "metadata": {},
   "source": [
    "#### Linaer Regression"
   ]
  },
  {
   "cell_type": "code",
   "execution_count": 42,
   "metadata": {},
   "outputs": [
    {
     "name": "stdout",
     "output_type": "stream",
     "text": [
      "MSE = 53.74307365423859\n"
     ]
    }
   ],
   "source": [
    "lm = linear_model.LinearRegression()\n",
    "model = lm.fit(X,Y)\n",
    "predictions = lm.predict(X)\n",
    "print(\"MSE =\", metrics.mean_squared_error(predictions, Y))"
   ]
  },
  {
   "cell_type": "code",
   "execution_count": 43,
   "metadata": {
    "_cell_guid": "2aa113de-cd48-4f71-a65c-72b93002977b",
    "_kg_hide-input": true,
    "_uuid": "9b91c919f609adfeb4d7320b441372a09987faf1"
   },
   "outputs": [
    {
     "data": {
      "text/plain": [
       "'5.30%'"
      ]
     },
     "execution_count": 43,
     "metadata": {},
     "output_type": "execute_result"
    }
   ],
   "source": [
    "icount = 0\n",
    "for i, val in enumerate(Y):\n",
    "    if abs(val-predictions[i]) > 15: icount += 1\n",
    "'{:.2f}%'.format(icount / len(predictions) * 100)"
   ]
  },
  {
   "cell_type": "code",
   "execution_count": 44,
   "metadata": {},
   "outputs": [],
   "source": [
    "import matplotlib.pyplot as plt"
   ]
  },
  {
   "cell_type": "code",
   "execution_count": 45,
   "metadata": {
    "_cell_guid": "9abaaad6-d591-4fc2-8d2f-4162f396749a",
    "_kg_hide-input": true,
    "_uuid": "aed71efd53e2eb0a7ce6a490dded0792110d3659"
   },
   "outputs": [
    {
     "data": {
      "image/png": "[encoded data removed]",
      "text/plain": [
       "<Figure size 432x432 with 3 Axes>"
      ]
     },
     "metadata": {},
     "output_type": "display_data"
    }
   ],
   "source": [
    "tips = pd.DataFrame()\n",
    "tips[\"prediction\"] = pd.Series([float(s) for s in predictions]) \n",
    "tips[\"original_data\"] = pd.Series([float(s) for s in Y]) \n",
    "sns.jointplot(x=\"original_data\", y=\"prediction\", data=tips, size = 6, ratio = 7,\n",
    "              joint_kws={'line_kws':{'color':'limegreen'}}, kind='reg')\n",
    "plt.xlabel('Mean delays (min)', fontsize = 15)\n",
    "plt.ylabel('Predictions (min)', fontsize = 15)\n",
    "plt.plot(list(range(-10,25)), list(range(-10,25)), linestyle = ':', color = 'r')\n",
    "sns.set()"
   ]
  },
  {
   "cell_type": "code",
   "execution_count": 46,
   "metadata": {
    "_cell_guid": "d3e071f9-7138-4609-9bf8-cb246cd32eea",
    "_kg_hide-input": true,
    "_uuid": "cb7ca2b0da8330cec391b3f2715497dbb5fd5821"
   },
   "outputs": [
    {
     "data": {
      "text/plain": [
       "LinearRegression()"
      ]
     },
     "execution_count": 46,
     "metadata": {},
     "output_type": "execute_result"
    }
   ],
   "source": [
    "poly = PolynomialFeatures(degree = 2)\n",
    "regr = linear_model.LinearRegression()\n",
    "X_ = poly.fit_transform(X)\n",
    "regr.fit(X_, Y)"
   ]
  },
  {
   "cell_type": "code",
   "execution_count": 47,
   "metadata": {
    "_cell_guid": "36ad4a4b-9c2f-4ccd-b6de-c01dcd0d366a",
    "_kg_hide-input": true,
    "_uuid": "dfde235823ebc769f2c6288890c407c97b3c6d0e"
   },
   "outputs": [
    {
     "name": "stdout",
     "output_type": "stream",
     "text": [
      "MSE = 49.502727299723986\n"
     ]
    }
   ],
   "source": [
    "result = regr.predict(X_)\n",
    "print(\"MSE =\", metrics.mean_squared_error(result, Y))"
   ]
  },
  {
   "cell_type": "code",
   "execution_count": 48,
   "metadata": {
    "_cell_guid": "ba1bcdd5-d5f0-4994-8ac0-40900fa45c72",
    "_kg_hide-input": true,
    "_uuid": "a2989994c8363f1862198ab873a5d24853fec037"
   },
   "outputs": [
    {
     "data": {
      "text/plain": [
       "'4.81%'"
      ]
     },
     "execution_count": 48,
     "metadata": {},
     "output_type": "execute_result"
    }
   ],
   "source": [
    "icount = 0\n",
    "for i, val in enumerate(Y):\n",
    "    if abs(val-result[i]) > 15: icount += 1\n",
    "'{:.2f}%'.format(icount / len(result) * 100)"
   ]
  },
  {
   "cell_type": "code",
   "execution_count": 49,
   "metadata": {
    "_cell_guid": "731f7d4c-6227-4486-b576-07bdad61a666",
    "_kg_hide-input": true,
    "_uuid": "58fe45c37973be0fcb3353a5560dc4fc65bf3898"
   },
   "outputs": [
    {
     "data": {
      "image/png": "[encoded data removed]",
      "text/plain": [
       "<Figure size 432x432 with 3 Axes>"
      ]
     },
     "metadata": {},
     "output_type": "display_data"
    }
   ],
   "source": [
    "tips = pd.DataFrame()\n",
    "tips[\"prediction\"] = pd.Series([float(s) for s in result]) \n",
    "tips[\"original_data\"] = pd.Series([float(s) for s in Y]) \n",
    "sns.jointplot(x=\"original_data\", y=\"prediction\", data=tips, size = 6, ratio = 7,\n",
    "              joint_kws={'line_kws':{'color':'limegreen'}}, kind='reg')\n",
    "plt.xlabel('Mean delays (min)', fontsize = 15)\n",
    "plt.ylabel('Predictions (min)', fontsize = 15)\n",
    "plt.plot(list(range(-10,25)), list(range(-10,25)), linestyle = ':', color = 'r')\n",
    "sns.set()"
   ]
  },
  {
   "cell_type": "markdown",
   "metadata": {},
   "source": [
    "### Setting free parameters"
   ]
  },
  {
   "cell_type": "code",
   "execution_count": 50,
   "metadata": {
    "_cell_guid": "43b16a07-73e5-4e06-849d-1702abe950cb",
    "_kg_hide-input": true,
    "_uuid": "fcc9c7df99caead4c2a259e3c19c3d179d246f52"
   },
   "outputs": [],
   "source": [
    "X_train, X_test, Y_train, Y_test = train_test_split(X, Y, test_size=0.3)"
   ]
  },
  {
   "cell_type": "code",
   "execution_count": 51,
   "metadata": {
    "_cell_guid": "1ef43423-1cb7-4b67-9e69-baa99f99999f",
    "_kg_hide-input": true,
    "_uuid": "4054f837d1c57937175128f9c32730179371855e"
   },
   "outputs": [
    {
     "data": {
      "text/plain": [
       "(1281, 82)"
      ]
     },
     "execution_count": 51,
     "metadata": {},
     "output_type": "execute_result"
    }
   ],
   "source": [
    "X_train.shape"
   ]
  },
  {
   "cell_type": "code",
   "execution_count": 52,
   "metadata": {
    "_cell_guid": "6937280e-bdb9-4afd-bc20-daca28fb2fdd",
    "_kg_hide-input": true,
    "_uuid": "8405b16b96913fd324f8cfd744be3a80d44d46b7"
   },
   "outputs": [
    {
     "name": "stdout",
     "output_type": "stream",
     "text": [
      "Mean squared error =  47.56224785951498\n"
     ]
    }
   ],
   "source": [
    "poly = PolynomialFeatures(degree = 2)\n",
    "regr = linear_model.LinearRegression()\n",
    "X_ = poly.fit_transform(X_train)\n",
    "regr.fit(X_, Y_train)\n",
    "result = regr.predict(X_)\n",
    "score = metrics.mean_squared_error(result, Y_train)\n",
    "print(\"Mean squared error = \", score)"
   ]
  },
  {
   "cell_type": "code",
   "execution_count": 53,
   "metadata": {
    "_cell_guid": "3fd7b96c-3bd9-4866-af43-55f00146c0f3",
    "_kg_hide-input": true,
    "_uuid": "a80831944c8457075abe253cb43ff7244ff8c381"
   },
   "outputs": [
    {
     "name": "stdout",
     "output_type": "stream",
     "text": [
      "Mean squared error =  2168.86484489059\n"
     ]
    }
   ],
   "source": [
    "X_ = poly.fit_transform(X_test)\n",
    "result = regr.predict(X_)\n",
    "score = metrics.mean_squared_error(result, Y_test)\n",
    "print(\"Mean squared error = \", score)"
   ]
  },
  {
   "cell_type": "code",
   "execution_count": 54,
   "metadata": {
    "_cell_guid": "950cd9e7-71bd-49b1-9dec-6b4d0e382682",
    "_kg_hide-input": true,
    "_uuid": "59350ce0bc664622b8db1f76363449bb4a103d35"
   },
   "outputs": [
    {
     "name": "stdout",
     "output_type": "stream",
     "text": [
      "1139879.2 -1042.5 25.2\n"
     ]
    }
   ],
   "source": [
    "somme = 0\n",
    "for valeurs in zip(result, Y_test):\n",
    "    ajout = (float(valeurs[0]) - float(valeurs[1]))**2\n",
    "    somme += ajout\n",
    "    if ajout > 10**4:\n",
    "        print(\"{:<.1f} {:<.1f} {:<.1f}\".format(ajout, float(valeurs[0]), float(valeurs[1])))"
   ]
  },
  {
   "cell_type": "code",
   "execution_count": 55,
   "metadata": {
    "_cell_guid": "534b513a-b5ec-42f4-bfaf-b01eb98c90a2",
    "_kg_hide-input": true,
    "_uuid": "48889e55fc5aef282ba1a652dd7962c8a7a94cbc"
   },
   "outputs": [
    {
     "data": {
      "text/plain": [
       "Ridge(alpha=0.3, normalize=True)"
      ]
     },
     "execution_count": 55,
     "metadata": {},
     "output_type": "execute_result"
    }
   ],
   "source": [
    "from sklearn.linear_model import Ridge\n",
    "ridgereg = Ridge(alpha=0.3,normalize=True)\n",
    "poly = PolynomialFeatures(degree = 2)\n",
    "X_ = poly.fit_transform(X_train)\n",
    "ridgereg.fit(X_, Y_train)"
   ]
  },
  {
   "cell_type": "code",
   "execution_count": 56,
   "metadata": {
    "_cell_guid": "abbc5e64-dab1-4972-a0d1-2f7f2de5813c",
    "_kg_hide-input": true,
    "_uuid": "e2ccca02f1fa3ef58eb66d6bb953c071c0eda660"
   },
   "outputs": [
    {
     "name": "stdout",
     "output_type": "stream",
     "text": [
      "Mean squared error =  64.38257526079367\n"
     ]
    }
   ],
   "source": [
    "X_ = poly.fit_transform(X_test)\n",
    "result = ridgereg.predict(X_)\n",
    "score = metrics.mean_squared_error(result, Y_test)\n",
    "print(\"Mean squared error = \", score)"
   ]
  },
  {
   "cell_type": "code",
   "execution_count": 57,
   "metadata": {
    "_cell_guid": "a18e4c13-a083-432b-8140-2e0e6cfd06c7",
    "_kg_hide-input": true,
    "_uuid": "7a327687b2b5b0aa92230445547aaa01ecaafddf"
   },
   "outputs": [
    {
     "name": "stdout",
     "output_type": "stream",
     "text": [
      "n=1 alpha=0 , MSE = 65.258\n",
      "n=1 alpha=2 , MSE = 63.5\n",
      "n=1 alpha=4 , MSE = 62.892\n",
      "n=1 alpha=6 , MSE = 62.773\n",
      "n=1 alpha=8 , MSE = 62.879\n",
      "n=1 alpha=10 , MSE = 63.087\n",
      "n=1 alpha=12 , MSE = 63.34\n",
      "n=1 alpha=14 , MSE = 63.608\n",
      "n=1 alpha=16 , MSE = 63.876\n",
      "n=1 alpha=18 , MSE = 64.135\n",
      "n=2 alpha=0 , MSE = 1.2069e+04\n",
      "n=2 alpha=2 , MSE = 64.57\n",
      "n=2 alpha=4 , MSE = 64.225\n",
      "n=2 alpha=6 , MSE = 63.982\n",
      "n=2 alpha=8 , MSE = 63.824\n",
      "n=2 alpha=10 , MSE = 63.731\n",
      "n=2 alpha=12 , MSE = 63.688\n",
      "n=2 alpha=14 , MSE = 63.682\n",
      "n=2 alpha=16 , MSE = 63.704\n",
      "n=2 alpha=18 , MSE = 63.746\n"
     ]
    }
   ],
   "source": [
    "score_min = 10000\n",
    "for pol_order in range(1, 3):\n",
    "    for alpha in range(0, 20, 2):\n",
    "        ridgereg = Ridge(alpha = alpha/10, normalize=True)\n",
    "        poly = PolynomialFeatures(degree = pol_order)\n",
    "        regr = linear_model.LinearRegression()\n",
    "        X_ = poly.fit_transform(X_train)\n",
    "        ridgereg.fit(X_, Y_train)        \n",
    "        X_ = poly.fit_transform(X_test)\n",
    "        result = ridgereg.predict(X_)\n",
    "        score = metrics.mean_squared_error(result, Y_test)        \n",
    "        if score < score_min:\n",
    "            score_min = score\n",
    "            parameters = [alpha/10, pol_order]\n",
    "        print(\"n={} alpha={} , MSE = {:<0.5}\".format(pol_order, alpha, score))"
   ]
  },
  {
   "cell_type": "code",
   "execution_count": 58,
   "metadata": {
    "_cell_guid": "90299133-35f5-46f5-93d7-10d33b1e61fb",
    "_kg_hide-input": true,
    "_uuid": "8b99efa4987122e850e6235f61a7c64cb4778da3"
   },
   "outputs": [
    {
     "name": "stdout",
     "output_type": "stream",
     "text": [
      "55.892912799059864\n"
     ]
    }
   ],
   "source": [
    "ridgereg = Ridge(alpha = parameters[0], normalize=True)\n",
    "poly = PolynomialFeatures(degree = parameters[1])\n",
    "X_ = poly.fit_transform(X)\n",
    "ridgereg.fit(X_, Y)\n",
    "result = ridgereg.predict(X_)\n",
    "score = metrics.mean_squared_error(result, Y)        \n",
    "print(score)"
   ]
  },
  {
   "cell_type": "code",
   "execution_count": 59,
   "metadata": {
    "_cell_guid": "197d56a1-50f9-41ef-a174-52fe7f82f098",
    "_kg_hide-input": true,
    "_uuid": "2299dc7683fb55c3bb1b009e8eeb291c57fd9065"
   },
   "outputs": [],
   "source": [
    "carrier = 'AA'\n",
    "merged_df_test = get_merged_delays(df_test, carrier)"
   ]
  },
  {
   "cell_type": "code",
   "execution_count": 60,
   "metadata": {
    "_cell_guid": "57e34a87-27ad-4514-ad23-5cda16bb84e0",
    "_kg_hide-input": true,
    "_uuid": "ba3ae1fd41c9c1b97a36903de752b1ad9c51c3b6"
   },
   "outputs": [],
   "source": [
    "label_conversion = dict()\n",
    "for s in label_airports:\n",
    "    label_conversion[s[1]] = s[0]\n",
    "\n",
    "merged_df_test['AIRPORT_ID'].replace(label_conversion, inplace = True)\n",
    "\n",
    "for index, label in label_airports:\n",
    "    temp = merged_df_test['AIRPORT_ID'] == index\n",
    "    temp = temp.apply(lambda x:1.0 if x else 0.0)\n",
    "    if index == 0:\n",
    "        matrix = np.array(temp)\n",
    "    else:\n",
    "        matrix = np.vstack((matrix, temp))\n",
    "matrix = matrix.T\n",
    "\n",
    "b = np.array(merged_df_test['heure_depart_min'])\n",
    "b = b.reshape(len(b),1)\n",
    "X_test = np.hstack((matrix, b))\n",
    "Y_test = np.array(merged_df_test['mean'])\n",
    "Y_test = Y_test.reshape(len(Y_test), 1)"
   ]
  },
  {
   "cell_type": "code",
   "execution_count": 61,
   "metadata": {
    "_cell_guid": "9d7ee149-d518-405e-87d8-8ad7841f16d6",
    "_kg_hide-input": true,
    "_uuid": "8eb6c46c298f2c2cb4124a6ba61c6a850ca9c33a"
   },
   "outputs": [
    {
     "data": {
      "text/plain": [
       "'MSE = 58.41'"
      ]
     },
     "execution_count": 61,
     "metadata": {},
     "output_type": "execute_result"
    }
   ],
   "source": [
    "X_ = poly.fit_transform(X_test)\n",
    "result = ridgereg.predict(X_)\n",
    "score = metrics.mean_squared_error(result, Y_test)\n",
    "'MSE = {:.2f}'.format(score)"
   ]
  },
  {
   "cell_type": "code",
   "execution_count": 62,
   "metadata": {
    "_cell_guid": "ba3f07f0-efc6-4b9c-8ea3-8ede30baf4a7",
    "_kg_hide-input": true,
    "_uuid": "1d1ce02419a82ef3848810acf50181de9e612bb6"
   },
   "outputs": [
    {
     "data": {
      "text/plain": [
       "'Ecart = 7.64 min'"
      ]
     },
     "execution_count": 62,
     "metadata": {},
     "output_type": "execute_result"
    }
   ],
   "source": [
    "'Ecart = {:.2f} min'.format(np.sqrt(score))"
   ]
  },
  {
   "cell_type": "code",
   "execution_count": 63,
   "metadata": {},
   "outputs": [
    {
     "name": "stdout",
     "output_type": "stream",
     "text": [
      "ecarts > 15 minutes: 3.168%\n"
     ]
    }
   ],
   "source": [
    "icount = 0\n",
    "for i, val in enumerate(Y_test):\n",
    "    if abs(val-predictions[i]) > 15: icount += 1\n",
    "print(\"ecarts > 15 minutes: {}%\".format(round((icount / len(predictions))*100,3)))"
   ]
  },
  {
   "cell_type": "code",
   "execution_count": 64,
   "metadata": {},
   "outputs": [
    {
     "data": {
      "image/png": "[encoded data removed]",
      "text/plain": [
       "<Figure size 432x432 with 3 Axes>"
      ]
     },
     "metadata": {},
     "output_type": "display_data"
    }
   ],
   "source": [
    "tips = pd.DataFrame()\n",
    "tips[\"prediction\"] = pd.Series([float(s) for s in predictions]) \n",
    "tips[\"original_data\"] = pd.Series([float(s) for s in Y_test]) \n",
    "sns.jointplot(x=\"original_data\", y=\"prediction\", data=tips, size = 6, ratio = 7,\n",
    "              joint_kws={'line_kws':{'color':'limegreen'}}, kind='reg')\n",
    "plt.xlabel('Mean delays (min)', fontsize = 15)\n",
    "plt.ylabel('Predictions (min)', fontsize = 15)\n",
    "plt.plot(list(range(-10,25)), list(range(-10,25)), linestyle = ':', color = 'r')\n",
    "sns.set()"
   ]
  },
  {
   "cell_type": "code",
   "execution_count": 65,
   "metadata": {
    "_cell_guid": "be995aaf-f779-42d8-b46b-9ab9cd96ed60",
    "_kg_hide-input": true,
    "_uuid": "1789d33e3346309f4ed168424a40c979fd96aff1"
   },
   "outputs": [],
   "source": [
    "def create_df(df, carrier):\n",
    "    df2 = df[df['AIRLINE'] == carrier][['SCHEDULED_DEPARTURE','SCHEDULED_ARRIVAL',\n",
    "                                    'ORIGIN_AIRPORT','DESTINATION_AIRPORT','DEPARTURE_DELAY']]\n",
    "    df2.dropna(how = 'any', inplace = True)\n",
    "    df2['weekday'] = df2['SCHEDULED_DEPARTURE'].apply(lambda x:x.weekday())\n",
    "    #____________________\n",
    "    # delete delays > 1h\n",
    "    df2['DEPARTURE_DELAY'] = df2['DEPARTURE_DELAY'].apply(lambda x:x if x < 60 else np.nan)\n",
    "    df2.dropna(how = 'any', inplace = True)\n",
    "    #_________________\n",
    "    # formating times\n",
    "    fct = lambda x:x.hour*3600+x.minute*60+x.second\n",
    "    df2['heure_depart'] = df2['SCHEDULED_DEPARTURE'].apply(lambda x:x.time())\n",
    "    df2['heure_depart'] = df2['heure_depart'].apply(fct)\n",
    "    df2['heure_arrivee'] = df2['SCHEDULED_ARRIVAL'].apply(fct)\n",
    "    df3 = df2.groupby(['heure_depart', 'heure_arrivee', 'ORIGIN_AIRPORT'],\n",
    "                      as_index = False).mean()\n",
    "    return df3"
   ]
  },
  {
   "cell_type": "code",
   "execution_count": 66,
   "metadata": {
    "_cell_guid": "da7146de-bd35-4c99-9ffa-62cec5e80bb5",
    "_kg_hide-input": true,
    "_uuid": "315edbecad5745bb12fd17aa74e2bee4bd2ec11a"
   },
   "outputs": [
    {
     "data": {
      "text/html": [
       "<div>\n",
       "<style scoped>\n",
       "    .dataframe tbody tr th:only-of-type {\n",
       "        vertical-align: middle;\n",
       "    }\n",
       "\n",
       "    .dataframe tbody tr th {\n",
       "        vertical-align: top;\n",
       "    }\n",
       "\n",
       "    .dataframe thead th {\n",
       "        text-align: right;\n",
       "    }\n",
       "</style>\n",
       "<table border=\"1\" class=\"dataframe\">\n",
       "  <thead>\n",
       "    <tr style=\"text-align: right;\">\n",
       "      <th></th>\n",
       "      <th>heure_depart</th>\n",
       "      <th>heure_arrivee</th>\n",
       "      <th>ORIGIN_AIRPORT</th>\n",
       "      <th>DEPARTURE_DELAY</th>\n",
       "      <th>weekday</th>\n",
       "    </tr>\n",
       "  </thead>\n",
       "  <tbody>\n",
       "    <tr>\n",
       "      <th>0</th>\n",
       "      <td>300</td>\n",
       "      <td>17640</td>\n",
       "      <td>LAX</td>\n",
       "      <td>2.133333</td>\n",
       "      <td>2.800000</td>\n",
       "    </tr>\n",
       "    <tr>\n",
       "      <th>1</th>\n",
       "      <td>300</td>\n",
       "      <td>17700</td>\n",
       "      <td>LAX</td>\n",
       "      <td>5.500000</td>\n",
       "      <td>3.750000</td>\n",
       "    </tr>\n",
       "    <tr>\n",
       "      <th>2</th>\n",
       "      <td>600</td>\n",
       "      <td>28200</td>\n",
       "      <td>LAX</td>\n",
       "      <td>-6.000000</td>\n",
       "      <td>3.250000</td>\n",
       "    </tr>\n",
       "    <tr>\n",
       "      <th>3</th>\n",
       "      <td>1200</td>\n",
       "      <td>29040</td>\n",
       "      <td>LAX</td>\n",
       "      <td>-4.117647</td>\n",
       "      <td>2.823529</td>\n",
       "    </tr>\n",
       "    <tr>\n",
       "      <th>4</th>\n",
       "      <td>1200</td>\n",
       "      <td>29100</td>\n",
       "      <td>LAX</td>\n",
       "      <td>0.800000</td>\n",
       "      <td>3.600000</td>\n",
       "    </tr>\n",
       "  </tbody>\n",
       "</table>\n",
       "</div>"
      ],
      "text/plain": [
       "   heure_depart  heure_arrivee ORIGIN_AIRPORT  DEPARTURE_DELAY   weekday\n",
       "0           300          17640            LAX         2.133333  2.800000\n",
       "1           300          17700            LAX         5.500000  3.750000\n",
       "2           600          28200            LAX        -6.000000  3.250000\n",
       "3          1200          29040            LAX        -4.117647  2.823529\n",
       "4          1200          29100            LAX         0.800000  3.600000"
      ]
     },
     "execution_count": 66,
     "metadata": {},
     "output_type": "execute_result"
    }
   ],
   "source": [
    "df3 = create_df(df, carrier)    \n",
    "df3[:5]"
   ]
  },
  {
   "cell_type": "code",
   "execution_count": 67,
   "metadata": {
    "_cell_guid": "719fb224-ed13-4ee3-939d-de733e1c60fd",
    "_kg_hide-input": true,
    "_uuid": "38e382ea3a402a877ec5d980da326b72beb916dc"
   },
   "outputs": [],
   "source": [
    "label_encoder = LabelEncoder()\n",
    "integer_encoded = label_encoder.fit_transform(df3['ORIGIN_AIRPORT'])\n",
    "#_________________________________________________________\n",
    "zipped = zip(integer_encoded, df3['ORIGIN_AIRPORT'])\n",
    "label_airports = list(set(list(zipped)))\n",
    "label_airports.sort(key = lambda x:x[0])\n",
    "#_________________________________________________\n",
    "onehot_encoder = OneHotEncoder(sparse=False)\n",
    "integer_encoded = integer_encoded.reshape(len(integer_encoded), 1)\n",
    "onehot_encoded = onehot_encoder.fit_transform(integer_encoded)\n",
    "#_________________________________________________\n",
    "b = np.array(df3[['heure_depart', 'heure_arrivee']])\n",
    "X = np.hstack((onehot_encoded, b))\n",
    "Y = np.array(df3['DEPARTURE_DELAY'])\n",
    "Y = Y.reshape(len(Y), 1)"
   ]
  },
  {
   "cell_type": "code",
   "execution_count": 68,
   "metadata": {
    "_cell_guid": "aa6b2d88-09a4-4cdd-a328-23e680206282",
    "_kg_hide-input": true,
    "_uuid": "3739985e149441cef7aa4b2d64a9fb9aefea86f0"
   },
   "outputs": [],
   "source": [
    "X_train, X_test, Y_train, Y_test = train_test_split(X, Y, test_size=0.3)"
   ]
  },
  {
   "cell_type": "code",
   "execution_count": 69,
   "metadata": {
    "_cell_guid": "815cec66-d5de-46de-9c2b-3f4e9252ead8",
    "_kg_hide-input": true,
    "_uuid": "f0e5fb91c2738ff9a161503702ef2544339d90bc"
   },
   "outputs": [
    {
     "name": "stdout",
     "output_type": "stream",
     "text": [
      "n=1 alpha=0.0 , MSE = 81.698\n",
      "n=1 alpha=0.2 , MSE = 81.305\n",
      "n=1 alpha=0.4 , MSE = 81.569\n",
      "n=1 alpha=0.6 , MSE = 82.157\n",
      "n=1 alpha=0.8 , MSE = 82.881\n",
      "n=1 alpha=1.0 , MSE = 83.65\n",
      "n=1 alpha=1.2 , MSE = 84.418\n",
      "n=1 alpha=1.4 , MSE = 85.163\n",
      "n=1 alpha=1.6 , MSE = 85.874\n",
      "n=1 alpha=1.8 , MSE = 86.546\n",
      "n=2 alpha=0.0 , MSE = 1856.5\n",
      "n=2 alpha=0.2 , MSE = 82.809\n",
      "n=2 alpha=0.4 , MSE = 82.467\n",
      "n=2 alpha=0.6 , MSE = 82.325\n",
      "n=2 alpha=0.8 , MSE = 82.279\n",
      "n=2 alpha=1.0 , MSE = 82.298\n",
      "n=2 alpha=1.2 , MSE = 82.364\n",
      "n=2 alpha=1.4 , MSE = 82.467\n",
      "n=2 alpha=1.6 , MSE = 82.598\n",
      "n=2 alpha=1.8 , MSE = 82.752\n"
     ]
    }
   ],
   "source": [
    "score_min = 10000\n",
    "for pol_order in range(1, 3):\n",
    "    for alpha in range(0, 20, 2):\n",
    "        ridgereg = Ridge(alpha = alpha/10, normalize=True)\n",
    "        poly = PolynomialFeatures(degree = pol_order)\n",
    "        regr = linear_model.LinearRegression()\n",
    "        X_ = poly.fit_transform(X_train)\n",
    "        ridgereg.fit(X_, Y_train)\n",
    "        \n",
    "        X_ = poly.fit_transform(X_test)\n",
    "        result = ridgereg.predict(X_)\n",
    "        score = metrics.mean_squared_error(result, Y_test)\n",
    "        \n",
    "        if score < score_min:\n",
    "            score_min = score\n",
    "            parameters = [alpha, pol_order]\n",
    "\n",
    "        print(\"n={} alpha={} , MSE = {:<0.5}\".format(pol_order, alpha/10, score))"
   ]
  },
  {
   "cell_type": "code",
   "execution_count": 70,
   "metadata": {
    "_cell_guid": "91c517a2-962d-4683-8a0d-db6a8b6f55e4",
    "_kg_hide-input": true,
    "_uuid": "a03458694b0cabf1dcf25d8b26ddb85363ad0be8"
   },
   "outputs": [
    {
     "name": "stdout",
     "output_type": "stream",
     "text": [
      "84.791095471914\n"
     ]
    }
   ],
   "source": [
    "ridgereg = Ridge(alpha = parameters[0], normalize=True)\n",
    "poly = PolynomialFeatures(degree = parameters[1])\n",
    "X_ = poly.fit_transform(X)\n",
    "ridgereg.fit(X_, Y)\n",
    "result = ridgereg.predict(X_)\n",
    "score = metrics.mean_squared_error(result, Y)        \n",
    "print(score)"
   ]
  },
  {
   "cell_type": "code",
   "execution_count": 71,
   "metadata": {
    "_cell_guid": "6a3b85a1-0922-4937-ab88-db8fff919a69",
    "_kg_hide-input": true,
    "_uuid": "d1c3734bbacccbdb9f99ad98d2d828d027fb22d1"
   },
   "outputs": [
    {
     "data": {
      "text/html": [
       "<div>\n",
       "<style scoped>\n",
       "    .dataframe tbody tr th:only-of-type {\n",
       "        vertical-align: middle;\n",
       "    }\n",
       "\n",
       "    .dataframe tbody tr th {\n",
       "        vertical-align: top;\n",
       "    }\n",
       "\n",
       "    .dataframe thead th {\n",
       "        text-align: right;\n",
       "    }\n",
       "</style>\n",
       "<table border=\"1\" class=\"dataframe\">\n",
       "  <thead>\n",
       "    <tr style=\"text-align: right;\">\n",
       "      <th></th>\n",
       "      <th>heure_depart</th>\n",
       "      <th>heure_arrivee</th>\n",
       "      <th>ORIGIN_AIRPORT</th>\n",
       "      <th>DEPARTURE_DELAY</th>\n",
       "      <th>weekday</th>\n",
       "    </tr>\n",
       "  </thead>\n",
       "  <tbody>\n",
       "    <tr>\n",
       "      <th>0</th>\n",
       "      <td>300</td>\n",
       "      <td>17640</td>\n",
       "      <td>LAX</td>\n",
       "      <td>-4.000</td>\n",
       "      <td>3.25</td>\n",
       "    </tr>\n",
       "    <tr>\n",
       "      <th>1</th>\n",
       "      <td>1200</td>\n",
       "      <td>29040</td>\n",
       "      <td>LAX</td>\n",
       "      <td>5.125</td>\n",
       "      <td>3.25</td>\n",
       "    </tr>\n",
       "    <tr>\n",
       "      <th>2</th>\n",
       "      <td>1800</td>\n",
       "      <td>20340</td>\n",
       "      <td>SFO</td>\n",
       "      <td>-6.750</td>\n",
       "      <td>3.25</td>\n",
       "    </tr>\n",
       "    <tr>\n",
       "      <th>3</th>\n",
       "      <td>2700</td>\n",
       "      <td>29340</td>\n",
       "      <td>LAS</td>\n",
       "      <td>-4.500</td>\n",
       "      <td>3.25</td>\n",
       "    </tr>\n",
       "    <tr>\n",
       "      <th>4</th>\n",
       "      <td>3900</td>\n",
       "      <td>31800</td>\n",
       "      <td>LAX</td>\n",
       "      <td>-4.875</td>\n",
       "      <td>3.25</td>\n",
       "    </tr>\n",
       "  </tbody>\n",
       "</table>\n",
       "</div>"
      ],
      "text/plain": [
       "   heure_depart  heure_arrivee ORIGIN_AIRPORT  DEPARTURE_DELAY  weekday\n",
       "0           300          17640            LAX           -4.000     3.25\n",
       "1          1200          29040            LAX            5.125     3.25\n",
       "2          1800          20340            SFO           -6.750     3.25\n",
       "3          2700          29340            LAS           -4.500     3.25\n",
       "4          3900          31800            LAX           -4.875     3.25"
      ]
     },
     "execution_count": 71,
     "metadata": {},
     "output_type": "execute_result"
    }
   ],
   "source": [
    "df3 = create_df(df_test, carrier)    \n",
    "df3[:5]"
   ]
  },
  {
   "cell_type": "code",
   "execution_count": 72,
   "metadata": {
    "_cell_guid": "f9348964-bc3c-4496-9b6b-09939cd09673",
    "_kg_hide-input": true,
    "_uuid": "f5577827ef5771b59f416b86a17702fe06f5cd5c"
   },
   "outputs": [],
   "source": [
    "label_conversion = dict()\n",
    "for s in label_airports:\n",
    "    label_conversion[s[1]] = s[0]\n",
    "\n",
    "df3['ORIGIN_AIRPORT'].replace(label_conversion, inplace = True)\n",
    "\n",
    "for index, label in label_airports:\n",
    "    temp = df3['ORIGIN_AIRPORT'] == index\n",
    "    temp = temp.apply(lambda x:1.0 if x else 0.0)\n",
    "    if index == 0:\n",
    "        matrix = np.array(temp)\n",
    "    else:\n",
    "        matrix = np.vstack((matrix, temp))\n",
    "matrix = matrix.T\n",
    "\n",
    "b = np.array(df3[['heure_depart', 'heure_arrivee']])\n",
    "X_test = np.hstack((matrix, b))\n",
    "Y_test = np.array(df3['DEPARTURE_DELAY'])\n",
    "Y_test = Y_test.reshape(len(Y_test), 1)"
   ]
  },
  {
   "cell_type": "code",
   "execution_count": 73,
   "metadata": {
    "_cell_guid": "fb36e86e-40ea-406e-b923-34011d67f1b8",
    "_kg_hide-input": true,
    "_uuid": "fc1318ac6a6ad150e37cd7e686f34d74b41c0a1a"
   },
   "outputs": [
    {
     "name": "stdout",
     "output_type": "stream",
     "text": [
      "MSE = 75.17\n"
     ]
    }
   ],
   "source": [
    "X_ = poly.fit_transform(X_test)\n",
    "result = ridgereg.predict(X_)\n",
    "score = metrics.mean_squared_error(result, Y_test)\n",
    "print('MSE = {}'.format(round(score, 2)))"
   ]
  },
  {
   "cell_type": "code",
   "execution_count": 74,
   "metadata": {
    "_cell_guid": "f4757b09-dad7-4a64-9ef6-3841cd0bc154",
    "_kg_hide-input": true,
    "_uuid": "c669a9799de9d5e7cc67d3f10dea8bae196e67b5"
   },
   "outputs": [
    {
     "data": {
      "text/plain": [
       "'Ecart = 8.67 min'"
      ]
     },
     "execution_count": 74,
     "metadata": {},
     "output_type": "execute_result"
    }
   ],
   "source": [
    "'Ecart = {:.2f} min'.format(np.sqrt(score))"
   ]
  },
  {
   "cell_type": "code",
   "execution_count": 75,
   "metadata": {
    "_cell_guid": "ffed43eb-5e2e-4034-95f8-7d51619e330f",
    "_kg_hide-input": true,
    "_uuid": "f8a8fc89672453741049adf679fad987d344256b"
   },
   "outputs": [
    {
     "name": "stdout",
     "output_type": "stream",
     "text": [
      "ecarts > 15 minutes: 4.588%\n"
     ]
    }
   ],
   "source": [
    "icount = 0\n",
    "for i, val in enumerate(Y_test):\n",
    "    if abs(val-predictions[i]) > 15: icount += 1\n",
    "print(\"ecarts > 15 minutes: {}%\".format(round((icount / len(predictions))*100,3)))"
   ]
  },
  {
   "cell_type": "code",
   "execution_count": 76,
   "metadata": {
    "_cell_guid": "6d50b335-1231-4816-a75f-d1e573788b4f",
    "_kg_hide-input": true,
    "_uuid": "1ec5742d600a9b1e384cf9aa5c50c45f2bc2c762"
   },
   "outputs": [
    {
     "data": {
      "image/png": "[encoded data removed]",
      "text/plain": [
       "<Figure size 432x432 with 3 Axes>"
      ]
     },
     "metadata": {},
     "output_type": "display_data"
    }
   ],
   "source": [
    "tips = pd.DataFrame()\n",
    "tips[\"prediction\"] = pd.Series([float(s) for s in predictions]) \n",
    "tips[\"original_data\"] = pd.Series([float(s) for s in Y_test]) \n",
    "sns.jointplot(x=\"original_data\", y=\"prediction\", data=tips, size = 6, ratio = 7,\n",
    "              joint_kws={'line_kws':{'color':'limegreen'}}, kind='reg')\n",
    "plt.xlabel('Mean delays (min)', fontsize = 15)\n",
    "plt.ylabel('Predictions (min)', fontsize = 15)\n",
    "plt.plot(list(range(-10,25)), list(range(-10,25)), linestyle = ':', color = 'r')\n",
    "plt.show()"
   ]
  }
 ],
 "metadata": {
  "kernelspec": {
   "display_name": "Python 3 (ipykernel)",
   "language": "python",
   "name": "python3"
  },
  "language_info": {
   "codemirror_mode": {
    "name": "ipython",
    "version": 3
   },
   "file_extension": ".py",
   "mimetype": "text/x-python",
   "name": "python",
   "nbconvert_exporter": "python",
   "pygments_lexer": "ipython3",
   "version": "3.9.7"
  }
 },
 "nbformat": 4,
 "nbformat_minor": 1
}
